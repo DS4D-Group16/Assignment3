{
 "cells": [
  {
   "cell_type": "markdown",
   "metadata": {},
   "source": [
    "# Assignment 2 - Zhihan Yang: Electricity Usage IAM Challenge, Group 16\n",
    "## Describe :\n",
    "\n",
    "### Description from data holder:\n",
    "\n",
    "\n",
    "<blockquote>The data provided comes from two projects:<br>\n",
    "    \n",
    "SMILE – 2020 data from 7 homes with single occupancy <br>\n",
    "    \n",
    "IDEAL Household Energy Dataset – 2017/2018 data from 8 homes with single occupancy <br>\n",
    "    \n",
    "All data is from Individual Appliance Monitors or IAMs. These are plug-level monitors that measure instantaneous power from household appliances. All values are in Watts. Please note that IAMs report changes in power use, rather than reporting at regular intervals. All data is in compressed CSV format; the CSV has two fields: timestamp and value.\n",
    "</blockquote>\n",
    "\n",
    "### Description from myself:\n",
    "\n",
    "#### The general description of the data: \n",
    "\n",
    "The data records the use of household electrical appliances for an elderly person in a certain period of time in the form of tabular. There are 2 main big data sets, which are called IDEAL and SMILE. Each data set has lots of small data sets, which represet different appliances usage history in different families. There are 8 families and 51 different data sets in in IDEAL data set(because each family may have different appliances), ranging from 2017.4\\~2018.6. There are 7 families and 27 different data sets in in SMILE data set, ranging from 2020.1\\~2020.10. Each small each data set represents a specific appliance in a specific home and we could know what the homeid, roomid, room_type, category, subtype, sensorid are by its file name（subtype refers to the name of appliance）. There are two columns in each small each data: time stamp and instantaneous power when using appliances. The sensor collects power data approximately every seven seconds when the appliance is in use, and approximately once every hour when it is not in use. There is also a extenal data set, which has information of 7 elders in SMILE data set's: Home ID, Gender, DateOfBirth, Age, StaffPlanConditions, CareSysCondition, Location.\n",
    "\n",
    "\n",
    "#### The structure of the data: \n",
    "\n",
    "78 main files + 1 extenal file.\n",
    "\n",
    "Each main file: 10000(approximately) * 2, with homeid, roomid, room_type, category, subtype, sensorid in the file name. （.csv.gz file）\n",
    "\n",
    "Extenal file: 7 * 7 （.csv file）\n",
    "\n",
    "#### Links between this data and other data\n",
    "\n",
    "If the homeid of two data is same, it represents that these two data coming from one same home and one same elder(each home just has one person).\n",
    "\n",
    "#### How does the data relate to the questions that the data owner has discussed with you?\n",
    "\n",
    "We need to use these data to find patterns of electrical appliances usage in these elderly families.\n",
    "\n",
    "\n"
   ]
  },
  {
   "cell_type": "markdown",
   "metadata": {},
   "source": [
    "## Explore:"
   ]
  },
  {
   "cell_type": "markdown",
   "metadata": {},
   "source": [
    "### Setup"
   ]
  },
  {
   "cell_type": "markdown",
   "metadata": {},
   "source": [
    "First, load the data from the supplied data file\n",
    "\n",
    "Here we use the IdealDataInterface library to access the data, which is provided by the data holder."
   ]
  },
  {
   "cell_type": "code",
   "execution_count": 1,
   "metadata": {},
   "outputs": [
    {
     "name": "stdout",
     "output_type": "stream",
     "text": [
      "Populating the interactive namespace from numpy and matplotlib\n"
     ]
    }
   ],
   "source": [
    "%pylab inline\n",
    "import numpy as np\n",
    "import pandas as pd\n",
    "import glob\n",
    "import seaborn as sns\n",
    "import matplotlib.pyplot as plt\n",
    "import matplotlib.ticker as ticker\n",
    "import time\n",
    "from scipy import stats, integrate\n",
    "from IdealDataInterface import IdealDataInterface\n",
    "\n",
    "pd.set_option('display.max_rows', 10)\n",
    "pd.set_option('display.max_columns', 100)"
   ]
  },
  {
   "cell_type": "code",
   "execution_count": 2,
   "metadata": {},
   "outputs": [
    {
     "name": "stdout",
     "output_type": "stream",
     "text": [
      "Found entries for 51 sensor readings.\n",
      "Found entries for 27 sensor readings.\n"
     ]
    }
   ],
   "source": [
    "folder_path = './IAM_Data/IDEAL'\n",
    "ideal = IdealDataInterface(folder_path)\n",
    "folder_path = './IAM_Data/SMILE'\n",
    "smile = IdealDataInterface(folder_path)"
   ]
  },
  {
   "cell_type": "markdown",
   "metadata": {},
   "source": [
    "Here, ideal and smile are two big data sets and these two objects are two instances of IdealDataInterface class."
   ]
  },
  {
   "cell_type": "code",
   "execution_count": 3,
   "metadata": {},
   "outputs": [
    {
     "data": {
      "text/plain": [
       "room_type\n",
       "kitchen       42\n",
       "hall           5\n",
       "outside        2\n",
       "diningroom     1\n",
       "bedroom        1\n",
       "dtype: int64"
      ]
     },
     "execution_count": 3,
     "metadata": {},
     "output_type": "execute_result"
    }
   ],
   "source": [
    "# Have a look at the room types in all IDEAL data sets\n",
    "ideal.room_types()"
   ]
  },
  {
   "cell_type": "markdown",
   "metadata": {},
   "source": [
    "IdealDataInterface class has many method. In this notebook, we mainly use the get( ) method to get the data."
   ]
  },
  {
   "cell_type": "code",
   "execution_count": 4,
   "metadata": {},
   "outputs": [
    {
     "data": {
      "text/html": [
       "<div>\n",
       "<style scoped>\n",
       "    .dataframe tbody tr th:only-of-type {\n",
       "        vertical-align: middle;\n",
       "    }\n",
       "\n",
       "    .dataframe tbody tr th {\n",
       "        vertical-align: top;\n",
       "    }\n",
       "\n",
       "    .dataframe thead th {\n",
       "        text-align: right;\n",
       "    }\n",
       "</style>\n",
       "<table border=\"1\" class=\"dataframe\">\n",
       "  <thead>\n",
       "    <tr style=\"text-align: right;\">\n",
       "      <th></th>\n",
       "      <th>category</th>\n",
       "      <th>subtype</th>\n",
       "    </tr>\n",
       "  </thead>\n",
       "  <tbody>\n",
       "    <tr>\n",
       "      <th>0</th>\n",
       "      <td>electric-appliance</td>\n",
       "      <td>microwave</td>\n",
       "    </tr>\n",
       "    <tr>\n",
       "      <th>1</th>\n",
       "      <td>electric-appliance</td>\n",
       "      <td>kettle</td>\n",
       "    </tr>\n",
       "    <tr>\n",
       "      <th>2</th>\n",
       "      <td>electric-appliance</td>\n",
       "      <td>washingmachine</td>\n",
       "    </tr>\n",
       "    <tr>\n",
       "      <th>3</th>\n",
       "      <td>electric-appliance</td>\n",
       "      <td>other</td>\n",
       "    </tr>\n",
       "    <tr>\n",
       "      <th>4</th>\n",
       "      <td>electric-appliance</td>\n",
       "      <td>fridgefreezer</td>\n",
       "    </tr>\n",
       "    <tr>\n",
       "      <th>...</th>\n",
       "      <td>...</td>\n",
       "      <td>...</td>\n",
       "    </tr>\n",
       "    <tr>\n",
       "      <th>9</th>\n",
       "      <td>electric-appliance</td>\n",
       "      <td>freezer</td>\n",
       "    </tr>\n",
       "    <tr>\n",
       "      <th>10</th>\n",
       "      <td>electric-appliance</td>\n",
       "      <td>electricheater</td>\n",
       "    </tr>\n",
       "    <tr>\n",
       "      <th>11</th>\n",
       "      <td>electric-appliance</td>\n",
       "      <td>fridge</td>\n",
       "    </tr>\n",
       "    <tr>\n",
       "      <th>12</th>\n",
       "      <td>electric-appliance</td>\n",
       "      <td>dehumidifier</td>\n",
       "    </tr>\n",
       "    <tr>\n",
       "      <th>13</th>\n",
       "      <td>electric-appliance</td>\n",
       "      <td>grill</td>\n",
       "    </tr>\n",
       "  </tbody>\n",
       "</table>\n",
       "<p>14 rows × 2 columns</p>\n",
       "</div>"
      ],
      "text/plain": [
       "              category         subtype\n",
       "0   electric-appliance       microwave\n",
       "1   electric-appliance          kettle\n",
       "2   electric-appliance  washingmachine\n",
       "3   electric-appliance           other\n",
       "4   electric-appliance   fridgefreezer\n",
       "..                 ...             ...\n",
       "9   electric-appliance         freezer\n",
       "10  electric-appliance  electricheater\n",
       "11  electric-appliance          fridge\n",
       "12  electric-appliance    dehumidifier\n",
       "13  electric-appliance           grill\n",
       "\n",
       "[14 rows x 2 columns]"
      ]
     },
     "execution_count": 4,
     "metadata": {},
     "output_type": "execute_result"
    }
   ],
   "source": [
    "# Have a look at the appliances types in all IDEAL data sets\n",
    "ideal.categories()"
   ]
  },
  {
   "cell_type": "code",
   "execution_count": 5,
   "metadata": {},
   "outputs": [
    {
     "data": {
      "text/html": [
       "<div>\n",
       "<style scoped>\n",
       "    .dataframe tbody tr th:only-of-type {\n",
       "        vertical-align: middle;\n",
       "    }\n",
       "\n",
       "    .dataframe tbody tr th {\n",
       "        vertical-align: top;\n",
       "    }\n",
       "\n",
       "    .dataframe thead th {\n",
       "        text-align: right;\n",
       "    }\n",
       "</style>\n",
       "<table border=\"1\" class=\"dataframe\">\n",
       "  <thead>\n",
       "    <tr style=\"text-align: right;\">\n",
       "      <th></th>\n",
       "      <th>homeid</th>\n",
       "      <th>roomid</th>\n",
       "      <th>room_type</th>\n",
       "      <th>category</th>\n",
       "      <th>subtype</th>\n",
       "      <th>sensorid</th>\n",
       "    </tr>\n",
       "  </thead>\n",
       "  <tbody>\n",
       "    <tr>\n",
       "      <th>0</th>\n",
       "      <td>90</td>\n",
       "      <td>957</td>\n",
       "      <td>kitchen</td>\n",
       "      <td>electric-appliance</td>\n",
       "      <td>microwave</td>\n",
       "      <td>4859</td>\n",
       "    </tr>\n",
       "  </tbody>\n",
       "</table>\n",
       "</div>"
      ],
      "text/plain": [
       "  homeid roomid room_type            category    subtype sensorid\n",
       "0     90    957   kitchen  electric-appliance  microwave     4859"
      ]
     },
     "execution_count": 5,
     "metadata": {},
     "output_type": "execute_result"
    }
   ],
   "source": [
    "# Have a look at the microwave keys in home 90\n",
    "ideal.view(homeid=90, subtype='microwave')"
   ]
  },
  {
   "cell_type": "markdown",
   "metadata": {},
   "source": [
    "Here, we use get( ) method to get the data of home 90. The data we get is dictionaries in a list, cotaining homeid,roomid,..., and the real usage data of different appliances. Use indexs of list to refer different appliances."
   ]
  },
  {
   "cell_type": "code",
   "execution_count": 6,
   "metadata": {},
   "outputs": [
    {
     "data": {
      "text/plain": [
       "[{'homeid': '90',\n",
       "  'roomid': '957',\n",
       "  'room_type': 'kitchen',\n",
       "  'category': 'electric-appliance',\n",
       "  'subtype': 'microwave',\n",
       "  'sensorid': '4859',\n",
       "  'readings': time\n",
       "  2017-04-11 10:00:59      3\n",
       "  2017-04-11 10:01:00    248\n",
       "  2017-04-11 10:01:01      1\n",
       "  2017-04-11 10:33:42      0\n",
       "  2017-04-11 10:33:46      3\n",
       "                        ... \n",
       "  2018-06-19 09:01:55      3\n",
       "  2018-06-19 10:01:55      3\n",
       "  2018-06-19 11:01:55      3\n",
       "  2018-06-19 12:01:55      3\n",
       "  2018-06-19 13:01:55      3\n",
       "  Name: sensor_4859, Length: 12445, dtype: int64},\n",
       " {'homeid': '90',\n",
       "  'roomid': '957',\n",
       "  'room_type': 'kitchen',\n",
       "  'category': 'electric-appliance',\n",
       "  'subtype': 'fridgefreezer',\n",
       "  'sensorid': '4860',\n",
       "  'readings': time\n",
       "  2017-04-11 10:01:14    251\n",
       "  2017-04-11 10:01:15      0\n",
       "  2017-04-11 10:33:41      0\n",
       "  2017-04-11 10:33:42    578\n",
       "  2017-04-11 10:33:44     84\n",
       "                        ... \n",
       "  2018-06-30 23:57:51      0\n",
       "  2018-06-30 23:58:33      0\n",
       "  2018-06-30 23:58:35      0\n",
       "  2018-06-30 23:59:45      0\n",
       "  2018-06-30 23:59:47      0\n",
       "  Name: sensor_4860, Length: 3395378, dtype: int64},\n",
       " {'homeid': '90',\n",
       "  'roomid': '957',\n",
       "  'room_type': 'kitchen',\n",
       "  'category': 'electric-appliance',\n",
       "  'subtype': 'kettle',\n",
       "  'sensorid': '4858',\n",
       "  'readings': time\n",
       "  2017-04-11 10:00:55    250\n",
       "  2017-04-11 10:00:56      0\n",
       "  2017-04-11 10:00:57      0\n",
       "  2017-04-11 10:17:43      0\n",
       "  2017-04-11 10:20:44      0\n",
       "                        ... \n",
       "  2018-06-30 19:48:18      0\n",
       "  2018-06-30 20:48:19      0\n",
       "  2018-06-30 21:48:19      0\n",
       "  2018-06-30 22:48:19      0\n",
       "  2018-06-30 23:48:19      0\n",
       "  Name: sensor_4858, Length: 13096, dtype: int64}]"
      ]
     },
     "execution_count": 6,
     "metadata": {},
     "output_type": "execute_result"
    }
   ],
   "source": [
    "# Get the data of microwave in home 90\n",
    "data = ideal.get(homeid=90)\n",
    "data"
   ]
  },
  {
   "cell_type": "markdown",
   "metadata": {},
   "source": [
    "As said before, each element in the list is a dictionary."
   ]
  },
  {
   "cell_type": "code",
   "execution_count": 7,
   "metadata": {},
   "outputs": [
    {
     "data": {
      "text/plain": [
       "dict_keys(['homeid', 'roomid', 'room_type', 'category', 'subtype', 'sensorid', 'readings'])"
      ]
     },
     "execution_count": 7,
     "metadata": {},
     "output_type": "execute_result"
    }
   ],
   "source": [
    "# Have a look at the data keys\n",
    "data[0].keys()"
   ]
  },
  {
   "cell_type": "markdown",
   "metadata": {},
   "source": [
    "The value in the key of 'readings' is the real data of the appliance usage. It is a pandas.series, where the index is time and the value is the power."
   ]
  },
  {
   "cell_type": "code",
   "execution_count": 8,
   "metadata": {},
   "outputs": [
    {
     "data": {
      "text/plain": [
       "time\n",
       "2017-04-11 10:00:59      3\n",
       "2017-04-11 10:01:00    248\n",
       "2017-04-11 10:01:01      1\n",
       "2017-04-11 10:33:42      0\n",
       "2017-04-11 10:33:46      3\n",
       "                      ... \n",
       "2018-06-19 09:01:55      3\n",
       "2018-06-19 10:01:55      3\n",
       "2018-06-19 11:01:55      3\n",
       "2018-06-19 12:01:55      3\n",
       "2018-06-19 13:01:55      3\n",
       "Name: sensor_4859, Length: 12445, dtype: int64"
      ]
     },
     "execution_count": 8,
     "metadata": {},
     "output_type": "execute_result"
    }
   ],
   "source": [
    "# Have a look at the data\n",
    "s1 = data[0]['readings']\n",
    "s1"
   ]
  },
  {
   "cell_type": "code",
   "execution_count": 9,
   "metadata": {},
   "outputs": [
    {
     "data": {
      "text/plain": [
       "count    12445.000000\n",
       "mean        79.795741\n",
       "std        315.785626\n",
       "min          0.000000\n",
       "25%          2.000000\n",
       "50%          3.000000\n",
       "75%          3.000000\n",
       "max       1496.000000\n",
       "Name: sensor_4859, dtype: float64"
      ]
     },
     "execution_count": 9,
     "metadata": {},
     "output_type": "execute_result"
    }
   ],
   "source": [
    "# Have a look at the data describe\n",
    "s1.describe(include = \"all\")"
   ]
  },
  {
   "cell_type": "markdown",
   "metadata": {},
   "source": [
    "Here, we could see that min is 0 and 75% is 3, which means that most of value of power is less than 3. So we can conclude that 0~3 can refer to the appliance is not in used(the power is too low to run the appliance and the power is not zero because there may be some measurement errorit of the sensor)."
   ]
  },
  {
   "cell_type": "markdown",
   "metadata": {},
   "source": [
    "### Cleaning"
   ]
  },
  {
   "cell_type": "markdown",
   "metadata": {},
   "source": [
    "The \"right\" data should be:\n",
    "1. The index(time) should be exclusive(no duplication). (Reason: The sennor can not record the power for twice at the same time)\n",
    "2. The index(time) should be incremental. (Reason: The sennor should record the power chronologically)\n",
    "3. The value(power) should be int64 or float64. (Reason: If it is not int64 or float64, It means there is a problem with the power data recorded by the sensor）\n",
    "4. The value(power) should be >= 0. (Reason: The power of electrical appliances cannot be negative）"
   ]
  },
  {
   "cell_type": "markdown",
   "metadata": {},
   "source": [
    "Firstly, check whether the above four requirements are met."
   ]
  },
  {
   "cell_type": "code",
   "execution_count": 10,
   "metadata": {
    "scrolled": false
   },
   "outputs": [
    {
     "name": "stdout",
     "output_type": "stream",
     "text": [
      "assert ideal sets\n",
      "assert smile sets\n",
      "The index(time) should be exclusive(no duplication)\n",
      "The index(time) should be exclusive(no duplication)\n",
      "The index(time) should be exclusive(no duplication)\n",
      "The index(time) should be exclusive(no duplication)\n",
      "The index(time) should be exclusive(no duplication)\n",
      "The index(time) should be exclusive(no duplication)\n",
      "The index(time) should be exclusive(no duplication)\n",
      "The index(time) should be exclusive(no duplication)\n",
      "The index(time) should be exclusive(no duplication)\n",
      "The index(time) should be exclusive(no duplication)\n",
      "The index(time) should be exclusive(no duplication)\n",
      "The index(time) should be exclusive(no duplication)\n",
      "The index(time) should be exclusive(no duplication)\n",
      "The index(time) should be exclusive(no duplication)\n",
      "The index(time) should be exclusive(no duplication)\n",
      "The index(time) should be exclusive(no duplication)\n",
      "The index(time) should be exclusive(no duplication)\n",
      "The index(time) should be exclusive(no duplication)\n",
      "The index(time) should be exclusive(no duplication)\n",
      "The index(time) should be exclusive(no duplication)\n",
      "The index(time) should be exclusive(no duplication)\n",
      "The index(time) should be exclusive(no duplication)\n",
      "The index(time) should be exclusive(no duplication)\n",
      "The index(time) should be exclusive(no duplication)\n",
      "The index(time) should be exclusive(no duplication)\n"
     ]
    }
   ],
   "source": [
    "print(\"assert ideal sets\")\n",
    "for ideal_data in ideal.get():\n",
    "    try:\n",
    "        assert ideal_data['readings'].index.is_unique == True,\"The index(time) should be exclusive(no duplication)\"\n",
    "        assert ideal_data['readings'].index.is_monotonic_increasing == True,\"The index(time) should be incremental.\"\n",
    "        assert (ideal_data['readings'].values.dtype == 'int64') | (ideal_data['readings'].values.dtype == 'float64') ,\"The value(power) should be int64 or float.\"\n",
    "        assert (ideal_data['readings'].values >= 0).all(), \"The value(power) should be >= 0.\"\n",
    "    except Exception as e:\n",
    "        print(e)\n",
    "\n",
    "print(\"assert smile sets\")\n",
    "for smile_data in smile.get():\n",
    "    try:\n",
    "        assert smile_data['readings'].index.is_unique == True,\"The index(time) should be exclusive(no duplication)\"\n",
    "        assert smile_data['readings'].index.is_monotonic_increasing == True,\"The index(time) should be incremental.\"\n",
    "        assert (smile_data['readings'].values.dtype == 'float64') | (smile_data['readings'].values.dtype == 'int64') ,\"The value(power) should be float64 or int64.\"\n",
    "        assert (smile_data['readings'].values >= 0).all(), \"The value(power) should be >= 0.\"\n",
    "    except Exception as e:\n",
    "        print(e)\n",
    "    "
   ]
  },
  {
   "cell_type": "markdown",
   "metadata": {},
   "source": [
    "The IDEAL data sets pass all the assert but the SMILE data sets fail in the first assert. Thus, it means that there are some duplications in the SMILE data sets and we need to clean it."
   ]
  },
  {
   "cell_type": "markdown",
   "metadata": {},
   "source": [
    "Let's see what happend in the SMILE data sets.\n",
    "We may double check if duplication happening in one SMILE data set so we can do this by use the duplicated() method."
   ]
  },
  {
   "cell_type": "code",
   "execution_count": 11,
   "metadata": {},
   "outputs": [
    {
     "data": {
      "text/plain": [
       "True"
      ]
     },
     "execution_count": 11,
     "metadata": {},
     "output_type": "execute_result"
    }
   ],
   "source": [
    "data = smile.get(sensorid=90508)\n",
    "data[0]['readings'].index.duplicated().any()"
   ]
  },
  {
   "cell_type": "markdown",
   "metadata": {},
   "source": [
    "The result is \"True\", which means that there should be at least one duplication."
   ]
  },
  {
   "cell_type": "markdown",
   "metadata": {},
   "source": [
    "So we may use the describe() method of a dataframe to see how many (the index of series does not have describe() method so we need to convert series to dataframe first)"
   ]
  },
  {
   "cell_type": "code",
   "execution_count": 12,
   "metadata": {},
   "outputs": [
    {
     "name": "stderr",
     "output_type": "stream",
     "text": [
      "<ipython-input-12-4e8f7f5cfc89>:5: FutureWarning: Treating datetime data as categorical rather than numeric in `.describe` is deprecated and will be removed in a future version of pandas. Specify `datetime_is_numeric=True` to silence this warning and adopt the future behavior now.\n",
      "  df.describe(include = \"all\") #use 'include = \"all\"' to make \"time\" in the describe result\n"
     ]
    },
    {
     "data": {
      "text/html": [
       "<div>\n",
       "<style scoped>\n",
       "    .dataframe tbody tr th:only-of-type {\n",
       "        vertical-align: middle;\n",
       "    }\n",
       "\n",
       "    .dataframe tbody tr th {\n",
       "        vertical-align: top;\n",
       "    }\n",
       "\n",
       "    .dataframe thead th {\n",
       "        text-align: right;\n",
       "    }\n",
       "</style>\n",
       "<table border=\"1\" class=\"dataframe\">\n",
       "  <thead>\n",
       "    <tr style=\"text-align: right;\">\n",
       "      <th></th>\n",
       "      <th>time</th>\n",
       "      <th>power</th>\n",
       "    </tr>\n",
       "  </thead>\n",
       "  <tbody>\n",
       "    <tr>\n",
       "      <th>count</th>\n",
       "      <td>7072</td>\n",
       "      <td>7072.0</td>\n",
       "    </tr>\n",
       "    <tr>\n",
       "      <th>unique</th>\n",
       "      <td>7021</td>\n",
       "      <td>NaN</td>\n",
       "    </tr>\n",
       "    <tr>\n",
       "      <th>top</th>\n",
       "      <td>2020-01-18 09:45:32.180000</td>\n",
       "      <td>NaN</td>\n",
       "    </tr>\n",
       "    <tr>\n",
       "      <th>freq</th>\n",
       "      <td>2</td>\n",
       "      <td>NaN</td>\n",
       "    </tr>\n",
       "    <tr>\n",
       "      <th>first</th>\n",
       "      <td>2020-01-17 17:32:02.590000</td>\n",
       "      <td>NaN</td>\n",
       "    </tr>\n",
       "    <tr>\n",
       "      <th>...</th>\n",
       "      <td>...</td>\n",
       "      <td>...</td>\n",
       "    </tr>\n",
       "    <tr>\n",
       "      <th>min</th>\n",
       "      <td>NaN</td>\n",
       "      <td>0.0</td>\n",
       "    </tr>\n",
       "    <tr>\n",
       "      <th>25%</th>\n",
       "      <td>NaN</td>\n",
       "      <td>0.3</td>\n",
       "    </tr>\n",
       "    <tr>\n",
       "      <th>50%</th>\n",
       "      <td>NaN</td>\n",
       "      <td>0.3</td>\n",
       "    </tr>\n",
       "    <tr>\n",
       "      <th>75%</th>\n",
       "      <td>NaN</td>\n",
       "      <td>0.3</td>\n",
       "    </tr>\n",
       "    <tr>\n",
       "      <th>max</th>\n",
       "      <td>NaN</td>\n",
       "      <td>47.1</td>\n",
       "    </tr>\n",
       "  </tbody>\n",
       "</table>\n",
       "<p>13 rows × 2 columns</p>\n",
       "</div>"
      ],
      "text/plain": [
       "                              time   power\n",
       "count                         7072  7072.0\n",
       "unique                        7021     NaN\n",
       "top     2020-01-18 09:45:32.180000     NaN\n",
       "freq                             2     NaN\n",
       "first   2020-01-17 17:32:02.590000     NaN\n",
       "...                            ...     ...\n",
       "min                            NaN     0.0\n",
       "25%                            NaN     0.3\n",
       "50%                            NaN     0.3\n",
       "75%                            NaN     0.3\n",
       "max                            NaN    47.1\n",
       "\n",
       "[13 rows x 2 columns]"
      ]
     },
     "execution_count": 12,
     "metadata": {},
     "output_type": "execute_result"
    }
   ],
   "source": [
    "data = smile.get(sensorid=90508)\n",
    "#df = data[0]['readings'].to_frame() # we can not use to_frame() because it will cause the time becoming the index!\n",
    "df_dic = {'time':data[0]['readings'].index,'power':data[0]['readings'].values}\n",
    "df = pd.DataFrame(df_dic)\n",
    "df.describe(include = \"all\") #use 'include = \"all\"' to make \"time\" in the describe result"
   ]
  },
  {
   "cell_type": "markdown",
   "metadata": {},
   "source": [
    "We find that the unique value of “time” here is 7021 but the count of “time” is 7072, which means that there are 51 duplication. I believe that the other data set in the SMILE set may also have this problem(so many exceptions above). This might be because the timing fuction of the sensor in the SMILE data set has somethinf wrong..."
   ]
  },
  {
   "cell_type": "markdown",
   "metadata": {},
   "source": [
    "So, let's de-duplicate the data in the SMILE set."
   ]
  },
  {
   "cell_type": "markdown",
   "metadata": {},
   "source": [
    "Because we use the IdealDataInterfac library to get data and there is no set() or change() method to change the value of smile data, we have to modify 'readings' value of ideal_data. Or we may modify the origne file and save as new files and load smile again. Here, I use the latter way because we can not produce new 'right' data if we use former way(e.g. generate new smile data set where home id = 1868)"
   ]
  },
  {
   "cell_type": "code",
   "execution_count": 13,
   "metadata": {},
   "outputs": [],
   "source": [
    "# Read in the SMILE data, de-duplicated it and save as new files\n",
    "filenames = glob.glob(\"./IAM_Data/SMILE\" + \"/*.csv.gz\")\n",
    "for filename in filenames:\n",
    "    #Because the original data has no column names, set the header to None and manually set the names of the two columns\n",
    "    df = pd.read_csv(filename,header=None,names=[\"Time\",\"Power\"])\n",
    "    df = df.drop_duplicates(subset=\"Time\")\n",
    "    newfilename = \"./New/\" + filename[2:]\n",
    "    df.to_csv(newfilename,index=False,header=False,sep=',')#no index and header to stay same structure with orgin data.\n",
    "    "
   ]
  },
  {
   "cell_type": "markdown",
   "metadata": {},
   "source": [
    "Now, the file has been de-duplicated and sotred in new path and let's check the smile sets again!"
   ]
  },
  {
   "cell_type": "code",
   "execution_count": 14,
   "metadata": {},
   "outputs": [
    {
     "name": "stdout",
     "output_type": "stream",
     "text": [
      "Found entries for 27 sensor readings.\n",
      "Good cleaning!\n"
     ]
    }
   ],
   "source": [
    "folder_path = './New/IAM_Data/SMILE'\n",
    "smile_new = IdealDataInterface(folder_path)\n",
    "for smile_data in smile_new.get():\n",
    "    try:\n",
    "        assert smile_data['readings'].index.is_unique == True,\"The index(time) should be exclusive(no duplication)\"\n",
    "        assert smile_data['readings'].index.is_monotonic_increasing == True,\"The index(time) should be incremental.\"\n",
    "        assert (smile_data['readings'].values.dtype == 'float64')| (smile_data['readings'].values.dtype == 'int64') ,\"The value(power) should be float64 ot int64.\"\n",
    "        assert (smile_data['readings'].values >= 0).all(), \"The value(power) should be >= 0.\"\n",
    "    except Exception as e:\n",
    "        print(e)\n",
    "print(\"Good cleaning!\")"
   ]
  },
  {
   "cell_type": "markdown",
   "metadata": {},
   "source": [
    "Good! the smile sets pass all the assert, which means that we have finished the cleaning!"
   ]
  },
  {
   "cell_type": "markdown",
   "metadata": {},
   "source": [
    "### Exploratory Visualisations"
   ]
  },
  {
   "cell_type": "markdown",
   "metadata": {},
   "source": [
    "#### 1. The usage of one appliance  in one  home in three days\n",
    "We do a simple visualisation for the usage of one appliance in one home in three days to see how this family use this one appliance in three days."
   ]
  },
  {
   "cell_type": "markdown",
   "metadata": {},
   "source": [
    "Firstly, we get the IDEAL data sets and chooose the frist data in it( which refers to one family and one appliance usage). And we get the homeid and appliance name by dictionary."
   ]
  },
  {
   "cell_type": "code",
   "execution_count": 15,
   "metadata": {},
   "outputs": [],
   "source": [
    "ideal_datas = ideal.get()"
   ]
  },
  {
   "cell_type": "code",
   "execution_count": 16,
   "metadata": {},
   "outputs": [],
   "source": [
    "homeid = ideal_datas[0]['homeid']\n",
    "appliance_name = ideal_datas[0]['subtype']"
   ]
  },
  {
   "cell_type": "markdown",
   "metadata": {},
   "source": [
    "Next, the sensor does not record power information at equal intervals, which will cause the time coordinate distribution to be uneven when we directly perform statistics or visualization, and this will cause statistical errors (for example, the statistical power distribution will reduce when the power is 0) and is not intuitive . In order to convert the data we use to an equally spaced distribution, we use the resample( ) method for resampling.\n",
    "\n",
    "Here, we choose 60 mins as the new sampling frequency, for the reason that we do not care about what the exactly time people use appliance but pay more attention to if they use appliance in a short period and 60 mins is a suitable choice(same as the length the sensor worked when applience is not in used).\n",
    "\n",
    "However, we may loose some data duting recoring for the reason like the sensor is broken. So there will be some NaN values, and we need to use fillna() method to fill in these values(no record during this period means that the power is 0 or the sensor is broken so we can fill with 0)."
   ]
  },
  {
   "cell_type": "code",
   "execution_count": 17,
   "metadata": {},
   "outputs": [
    {
     "data": {
      "image/png": "[encoded data removed]",
      "text/plain": [
       "<Figure size 720x360 with 1 Axes>"
      ]
     },
     "metadata": {
      "needs_background": "light"
     },
     "output_type": "display_data"
    }
   ],
   "source": [
    "#pd.set_option('display.max_rows', 5000)\n",
    "#pd.set_option('display.max_columns', 5000)\n",
    "\n",
    "s2 = ideal_datas[0]['readings']\n",
    "s2= s2.resample('60min').mean().fillna(0)\n",
    "threeDay = (s2.index >= '2018-04-18') & (s2.index < '2018-04-21') #chosse three days\n",
    "plt.figure(figsize=(10.0, 5.0))\n",
    "s2[threeDay].plot()\n",
    "plt.ylabel(\"power\")\n",
    "plt.title(\"The usage of \" + appliance_name +\" in home \"+ homeid + \" in three days.\")\n",
    "plt.show()"
   ]
  },
  {
   "cell_type": "markdown",
   "metadata": {},
   "source": [
    "From the graph, we can know that the person in home 268 use 5 times of microwave from  2018-4-18 to 2018-4-20. \n",
    "And the time is around 00:00, 15:00 or 19:00, so we can assume that the person may use the microwave to make supper around 2018-4-19 00:00 and cook dinner around 2018-4-19 19:00 and make afternoon tea around 2018-4-20 15:00."
   ]
  },
  {
   "cell_type": "markdown",
   "metadata": {},
   "source": [
    "Then, let's draw the distribution of power in these three days to see how power distributes."
   ]
  },
  {
   "cell_type": "code",
   "execution_count": 18,
   "metadata": {
    "scrolled": false
   },
   "outputs": [
    {
     "name": "stderr",
     "output_type": "stream",
     "text": [
      "/Library/Frameworks/Python.framework/Versions/3.8/lib/python3.8/site-packages/seaborn/distributions.py:2551: FutureWarning: `distplot` is a deprecated function and will be removed in a future version. Please adapt your code to use either `displot` (a figure-level function with similar flexibility) or `histplot` (an axes-level function for histograms).\n",
      "  warnings.warn(msg, FutureWarning)\n"
     ]
    },
    {
     "data": {
      "image/png": "[encoded data removed]",
      "text/plain": [
       "<Figure size 720x360 with 1 Axes>"
      ]
     },
     "metadata": {},
     "output_type": "display_data"
    }
   ],
   "source": [
    "sns.set(color_codes = True)\n",
    "plt.figure(figsize=(10.0, 5.0))\n",
    "sns.distplot(s2[threeDay]).set_xlim(0) #it's no meaning when power < 0, so set the min of x >=0\n",
    "plt.show()"
   ]
  },
  {
   "cell_type": "markdown",
   "metadata": {},
   "source": [
    "From the graph, we can know that the distribution of power is mostly 0, and a small bit is around 500. This means that in most of the time in the three days, the microwave is not in used and once it is used, it's average power in 60 mins is about 500 watt."
   ]
  },
  {
   "cell_type": "markdown",
   "metadata": {},
   "source": [
    "#### 2. When does one family usually use that appliance?\n",
    "\n",
    "In this part, we creat new data sets and analyse when does one family usually use one appliance."
   ]
  },
  {
   "cell_type": "markdown",
   "metadata": {},
   "source": [
    "The final task of this project is to analyse patterns of electrical appliances usage in these elderly families. So we may not care about the specific value of power but care about if this family use that appliance in one period. "
   ]
  },
  {
   "cell_type": "markdown",
   "metadata": {},
   "source": [
    "Firstly, we need to convet the power column to if_used.\n",
    "\n",
    "If the average power in 60 mins is 0, we can assume that the appliance is not in used. On the other hand, if the average power in 60 mins is not 0, we can assume that the appliance is in used.\n",
    "\n",
    "However, in some data sets(such as sensor_4859, which appeared in the setup part), the sensor may record 0 power as a small non-zero number, such as 2 or 3, for the reason that there may be some measurement errorit of the sensor. So, we can not simply assume that 0 is not in used. Instead, we can use the value of 75th percentile to define if it is in used. Because it is reasonable that most of time the appliance is not in used and the most value of power should represent the appliance is not in used."
   ]
  },
  {
   "cell_type": "code",
   "execution_count": 19,
   "metadata": {},
   "outputs": [
    {
     "data": {
      "text/plain": [
       "count    10420.000000\n",
       "mean        14.654057\n",
       "std         84.926410\n",
       "min          0.000000\n",
       "25%          2.000000\n",
       "50%          3.000000\n",
       "75%          3.000000\n",
       "max        937.000000\n",
       "Name: sensor_4859, dtype: float64"
      ]
     },
     "execution_count": 19,
     "metadata": {},
     "output_type": "execute_result"
    }
   ],
   "source": [
    "data_s4859 = ideal.get(sensorid=4859)\n",
    "data_s4859\n",
    "homeid = data_s4859[0]['homeid']\n",
    "appliance_name = data_s4859[0]['subtype']\n",
    "s3 =data_s4859[0]['readings']\n",
    "s3= s3.resample('60min').mean().fillna(0)\n",
    "s3.describe()"
   ]
  },
  {
   "cell_type": "markdown",
   "metadata": {},
   "source": [
    "The value of 50th percentile is 3 so we replace all the power data that <= 50th percentile in s3 to 0, and replace all the power data that > 50th percentile in s3 to 1 to represent if the appliance is in used."
   ]
  },
  {
   "cell_type": "code",
   "execution_count": 20,
   "metadata": {},
   "outputs": [],
   "source": [
    "not_in_used_loc = s3.values <= s3.quantile(0.5)\n",
    "in_used_loc = s3.values > s3.quantile(0.5)\n",
    "s3_new = s3.replace(s3[not_in_used_loc].values,0)\n",
    "s3_new = s3_new.replace(s3_new[in_used_loc].values,1)"
   ]
  },
  {
   "cell_type": "code",
   "execution_count": 21,
   "metadata": {},
   "outputs": [
    {
     "data": {
      "text/plain": [
       "count    10420.000000\n",
       "mean         0.038964\n",
       "std          0.193517\n",
       "min          0.000000\n",
       "25%          0.000000\n",
       "50%          0.000000\n",
       "75%          0.000000\n",
       "max          1.000000\n",
       "Name: sensor_4859, dtype: float64"
      ]
     },
     "execution_count": 21,
     "metadata": {},
     "output_type": "execute_result"
    }
   ],
   "source": [
    "s3_new.describe()"
   ]
  },
  {
   "cell_type": "markdown",
   "metadata": {},
   "source": [
    "Here, we could see that the max is 1 and min and 75th percentile are 0 so it means that we change the power column to if_used successfully."
   ]
  },
  {
   "cell_type": "markdown",
   "metadata": {},
   "source": [
    "Next, we create a new dataframe to save the total count of if_used to get the times that household uses the appliance at each time of day."
   ]
  },
  {
   "cell_type": "code",
   "execution_count": 22,
   "metadata": {
    "scrolled": true
   },
   "outputs": [
    {
     "data": {
      "text/html": [
       "<div>\n",
       "<style scoped>\n",
       "    .dataframe tbody tr th:only-of-type {\n",
       "        vertical-align: middle;\n",
       "    }\n",
       "\n",
       "    .dataframe tbody tr th {\n",
       "        vertical-align: top;\n",
       "    }\n",
       "\n",
       "    .dataframe thead th {\n",
       "        text-align: right;\n",
       "    }\n",
       "</style>\n",
       "<table border=\"1\" class=\"dataframe\">\n",
       "  <thead>\n",
       "    <tr style=\"text-align: right;\">\n",
       "      <th></th>\n",
       "      <th>time</th>\n",
       "      <th>count of if_used</th>\n",
       "    </tr>\n",
       "  </thead>\n",
       "  <tbody>\n",
       "    <tr>\n",
       "      <th>0</th>\n",
       "      <td>00:00</td>\n",
       "      <td>0</td>\n",
       "    </tr>\n",
       "    <tr>\n",
       "      <th>1</th>\n",
       "      <td>01:00</td>\n",
       "      <td>0</td>\n",
       "    </tr>\n",
       "    <tr>\n",
       "      <th>2</th>\n",
       "      <td>02:00</td>\n",
       "      <td>0</td>\n",
       "    </tr>\n",
       "    <tr>\n",
       "      <th>3</th>\n",
       "      <td>03:00</td>\n",
       "      <td>0</td>\n",
       "    </tr>\n",
       "    <tr>\n",
       "      <th>4</th>\n",
       "      <td>04:00</td>\n",
       "      <td>0</td>\n",
       "    </tr>\n",
       "    <tr>\n",
       "      <th>...</th>\n",
       "      <td>...</td>\n",
       "      <td>...</td>\n",
       "    </tr>\n",
       "    <tr>\n",
       "      <th>19</th>\n",
       "      <td>19:00</td>\n",
       "      <td>0</td>\n",
       "    </tr>\n",
       "    <tr>\n",
       "      <th>20</th>\n",
       "      <td>20:00</td>\n",
       "      <td>0</td>\n",
       "    </tr>\n",
       "    <tr>\n",
       "      <th>21</th>\n",
       "      <td>21:00</td>\n",
       "      <td>0</td>\n",
       "    </tr>\n",
       "    <tr>\n",
       "      <th>22</th>\n",
       "      <td>22:00</td>\n",
       "      <td>0</td>\n",
       "    </tr>\n",
       "    <tr>\n",
       "      <th>23</th>\n",
       "      <td>23:00</td>\n",
       "      <td>0</td>\n",
       "    </tr>\n",
       "  </tbody>\n",
       "</table>\n",
       "<p>24 rows × 2 columns</p>\n",
       "</div>"
      ],
      "text/plain": [
       "     time  count of if_used\n",
       "0   00:00                 0\n",
       "1   01:00                 0\n",
       "2   02:00                 0\n",
       "3   03:00                 0\n",
       "4   04:00                 0\n",
       "..    ...               ...\n",
       "19  19:00                 0\n",
       "20  20:00                 0\n",
       "21  21:00                 0\n",
       "22  22:00                 0\n",
       "23  23:00                 0\n",
       "\n",
       "[24 rows x 2 columns]"
      ]
     },
     "execution_count": 22,
     "metadata": {},
     "output_type": "execute_result"
    }
   ],
   "source": [
    "# creat a time list that contains the each time of day(freq = 60mins).\n",
    "times = []\n",
    "for hour in range(24):\n",
    "    for mins in [0]:\n",
    "        time_datetime = datetime.time(hour,mins)\n",
    "        time_str = time_datetime.strftime(\"%H:%M\")\n",
    "        times.append(time_str)\n",
    "count_dic = {'time':times,'count of if_used':0}\n",
    "# creat a new DataFrame from count_dic.\n",
    "df1 = pd.DataFrame(data=count_dic)\n",
    "df1"
   ]
  },
  {
   "cell_type": "markdown",
   "metadata": {},
   "source": [
    "Then, we count the data in s3_new and save them to df1."
   ]
  },
  {
   "cell_type": "code",
   "execution_count": 23,
   "metadata": {
    "scrolled": true
   },
   "outputs": [
    {
     "data": {
      "image/png": "[encoded data removed]",
      "text/plain": [
       "<Figure size 1440x360 with 1 Axes>"
      ]
     },
     "metadata": {},
     "output_type": "display_data"
    }
   ],
   "source": [
    "for time_str in df1['time']:\n",
    "    timestamp = time.strptime(time_str, \"%H:%M\")\n",
    "    timestamp.tm_hour\n",
    "    loc_time = (s3_new.index.hour == timestamp.tm_hour) & (s3_new.index.minute == timestamp.tm_min)\n",
    "    df1.loc[df1['time'] == time_str,'count of if_used'] = s3_new[loc_time].sum()\n",
    "    \n",
    "plt.figure(figsize=(20.0, 5.0))\n",
    "plt.xticks(rotation=90)\n",
    "plt.xlabel(\"time\")\n",
    "plt.ylabel(\"count of used times\")\n",
    "plt.title(\"The time that\" +\" home \"+ homeid + \" uses \" + appliance_name)\n",
    "plt.plot(df1['time'],df1['count of if_used'])\n",
    "plt.show()\n"
   ]
  },
  {
   "cell_type": "markdown",
   "metadata": {},
   "source": [
    "Well down! We got the gragh of the time that this family uses this appliance. From the gragh, we can find that this familiy usually use microwave around 18:00. It's reasonable to assume that this family prefer to use microwave to cook dinner than other time in a day."
   ]
  },
  {
   "cell_type": "markdown",
   "metadata": {},
   "source": [
    "Next, let's use scatter plot to see a more precise gragh."
   ]
  },
  {
   "cell_type": "code",
   "execution_count": 24,
   "metadata": {},
   "outputs": [
    {
     "data": {
      "image/png": "[encoded data removed]",
      "text/plain": [
       "<Figure size 360x576 with 1 Axes>"
      ]
     },
     "metadata": {},
     "output_type": "display_data"
    }
   ],
   "source": [
    "plt.figure(figsize=(5.0, 8.0))\n",
    "sns.stripplot(y='time', x='count of if_used', data=df1)\n",
    "plt.ylabel(\"time\")\n",
    "plt.xlabel(\"count of used times\")\n",
    "plt.title(\"The time that\" +\" home \"+ homeid + \" uses \" + appliance_name)\n",
    "plt.show()"
   ]
  },
  {
   "cell_type": "markdown",
   "metadata": {},
   "source": [
    "Compared to the line plot above, this scatter plot show us more infomation of the count of used times. We can know that the familiy does not use microwave for 40-60 times in any period(in the line plot, it is replace by line so we can not clearly know this point). There is a gap around 17:00 and 19:00 (from 40 to 60 suddenly to 120+), which tells us that this family may have other things to deal with at 17:00 or 19:00. For example, in China, many people choose to watch the news broadcast at 19:00, so they may turn off microwave before 19:00. Or, this family may set an alarm to remind him/herself to use microwave after 17:00.\n",
    "\n",
    "However, it may be also reasonable that this is because of our sampling frequency. It may be smooth for the original data, but there could be a gap for our data because we count once every half an hour(too long in this case)!"
   ]
  },
  {
   "cell_type": "markdown",
   "metadata": {},
   "source": [
    "### How long a family use a appliance each time?\n",
    "In this part, we will explore the length of time when one family use one appliance each time."
   ]
  },
  {
   "cell_type": "markdown",
   "metadata": {},
   "source": [
    "We use a 1 min sampling frequency this time because we need a more detailed usage range."
   ]
  },
  {
   "cell_type": "code",
   "execution_count": 25,
   "metadata": {},
   "outputs": [
    {
     "data": {
      "text/plain": [
       "count    625142.000000\n",
       "mean          1.134701\n",
       "std          35.243028\n",
       "min           0.000000\n",
       "25%           0.000000\n",
       "50%           0.000000\n",
       "75%           0.000000\n",
       "max        1494.000000\n",
       "Name: sensor_4859, dtype: float64"
      ]
     },
     "execution_count": 25,
     "metadata": {},
     "output_type": "execute_result"
    }
   ],
   "source": [
    "data_s4859 = ideal.get(sensorid=4859)\n",
    "data_s4859\n",
    "homeid = data_s4859[0]['homeid']\n",
    "appliance_name = data_s4859[0]['subtype']\n",
    "s4 =data_s4859[0]['readings']\n",
    "s4= s4.resample('1min').mean().fillna(0)\n",
    "s4.describe()"
   ]
  },
  {
   "cell_type": "code",
   "execution_count": 26,
   "metadata": {},
   "outputs": [],
   "source": [
    "not_in_used_loc = s4.values <= s4.quantile(0.5)\n",
    "in_used_loc = s4.values > s4.quantile(0.5)\n",
    "s4_new = s4.replace(s4[not_in_used_loc].values,0)\n",
    "s4_new = s4_new.replace(s4_new[in_used_loc].values,1)"
   ]
  },
  {
   "cell_type": "code",
   "execution_count": 27,
   "metadata": {},
   "outputs": [
    {
     "data": {
      "text/plain": [
       "time\n",
       "2017-04-11 10:00:00    1.0\n",
       "2017-04-11 10:01:00    1.0\n",
       "2017-04-11 10:02:00    0.0\n",
       "2017-04-11 10:03:00    0.0\n",
       "2017-04-11 10:04:00    0.0\n",
       "                      ... \n",
       "2018-06-19 12:57:00    0.0\n",
       "2018-06-19 12:58:00    0.0\n",
       "2018-06-19 12:59:00    0.0\n",
       "2018-06-19 13:00:00    0.0\n",
       "2018-06-19 13:01:00    1.0\n",
       "Freq: T, Name: sensor_4859, Length: 625142, dtype: float64"
      ]
     },
     "execution_count": 27,
     "metadata": {},
     "output_type": "execute_result"
    }
   ],
   "source": [
    "s4_new"
   ]
  },
  {
   "cell_type": "markdown",
   "metadata": {},
   "source": [
    "Same as before, we have got a series of if_used in each 1 minute.\n",
    "\n",
    "Next, we count the length of time when each using. And we store the data to df_time_using dataframe."
   ]
  },
  {
   "cell_type": "code",
   "execution_count": 28,
   "metadata": {},
   "outputs": [
    {
     "data": {
      "text/html": [
       "<div>\n",
       "<style scoped>\n",
       "    .dataframe tbody tr th:only-of-type {\n",
       "        vertical-align: middle;\n",
       "    }\n",
       "\n",
       "    .dataframe tbody tr th {\n",
       "        vertical-align: top;\n",
       "    }\n",
       "\n",
       "    .dataframe thead th {\n",
       "        text-align: right;\n",
       "    }\n",
       "</style>\n",
       "<table border=\"1\" class=\"dataframe\">\n",
       "  <thead>\n",
       "    <tr style=\"text-align: right;\">\n",
       "      <th></th>\n",
       "      <th>length of time using</th>\n",
       "    </tr>\n",
       "  </thead>\n",
       "  <tbody>\n",
       "    <tr>\n",
       "      <th>0</th>\n",
       "      <td>2</td>\n",
       "    </tr>\n",
       "    <tr>\n",
       "      <th>1</th>\n",
       "      <td>1</td>\n",
       "    </tr>\n",
       "    <tr>\n",
       "      <th>2</th>\n",
       "      <td>1</td>\n",
       "    </tr>\n",
       "    <tr>\n",
       "      <th>3</th>\n",
       "      <td>1</td>\n",
       "    </tr>\n",
       "    <tr>\n",
       "      <th>4</th>\n",
       "      <td>1</td>\n",
       "    </tr>\n",
       "    <tr>\n",
       "      <th>...</th>\n",
       "      <td>...</td>\n",
       "    </tr>\n",
       "    <tr>\n",
       "      <th>11083</th>\n",
       "      <td>1</td>\n",
       "    </tr>\n",
       "    <tr>\n",
       "      <th>11084</th>\n",
       "      <td>1</td>\n",
       "    </tr>\n",
       "    <tr>\n",
       "      <th>11085</th>\n",
       "      <td>1</td>\n",
       "    </tr>\n",
       "    <tr>\n",
       "      <th>11086</th>\n",
       "      <td>1</td>\n",
       "    </tr>\n",
       "    <tr>\n",
       "      <th>11087</th>\n",
       "      <td>1</td>\n",
       "    </tr>\n",
       "  </tbody>\n",
       "</table>\n",
       "<p>11088 rows × 1 columns</p>\n",
       "</div>"
      ],
      "text/plain": [
       "       length of time using\n",
       "0                         2\n",
       "1                         1\n",
       "2                         1\n",
       "3                         1\n",
       "4                         1\n",
       "...                     ...\n",
       "11083                     1\n",
       "11084                     1\n",
       "11085                     1\n",
       "11086                     1\n",
       "11087                     1\n",
       "\n",
       "[11088 rows x 1 columns]"
      ]
     },
     "execution_count": 28,
     "metadata": {},
     "output_type": "execute_result"
    }
   ],
   "source": [
    "each_uasge_times = []\n",
    "ifstart = False\n",
    "ifend = False\n",
    "sum_time = 0\n",
    "for every_min in s4_new:\n",
    "    if(every_min == 0.0):\n",
    "        if(ifstart == True):\n",
    "            ifend = True\n",
    "        ifstart = False\n",
    "        if(ifend == True):\n",
    "            each_uasge_times.append(sum_time)\n",
    "            ifend = False\n",
    "        sum_time = 0\n",
    "    else:\n",
    "        ifstart = True\n",
    "        sum_time = sum_time + 1\n",
    "dic_time_using = {'length of time using':each_uasge_times}\n",
    "df_time_using = pd.DataFrame(data=dic_time_using)\n",
    "df_time_using"
   ]
  },
  {
   "cell_type": "markdown",
   "metadata": {},
   "source": [
    "We need to count how many 1 appear, how many 2 appear,...\n",
    "\n",
    "So we need to count the value in this dataframe with value_counts() method."
   ]
  },
  {
   "cell_type": "code",
   "execution_count": 29,
   "metadata": {},
   "outputs": [
    {
     "data": {
      "text/plain": [
       "1     10824\n",
       "2        99\n",
       "4        75\n",
       "3        51\n",
       "5        18\n",
       "6        10\n",
       "7         4\n",
       "10        3\n",
       "8         3\n",
       "9         1\n",
       "Name: length of time using, dtype: int64"
      ]
     },
     "execution_count": 29,
     "metadata": {},
     "output_type": "execute_result"
    }
   ],
   "source": [
    "s__time_using_after_count = df_time_using['length of time using'].value_counts()\n",
    "s__time_using_after_count"
   ]
  },
  {
   "cell_type": "markdown",
   "metadata": {},
   "source": [
    "Then, we draw a pie plot to see the proportion of various usage time."
   ]
  },
  {
   "cell_type": "code",
   "execution_count": 30,
   "metadata": {},
   "outputs": [
    {
     "data": {
      "image/png": "[encoded data removed]",
      "text/plain": [
       "<Figure size 576x576 with 1 Axes>"
      ]
     },
     "metadata": {},
     "output_type": "display_data"
    }
   ],
   "source": [
    "fig, ax = plt.subplots(figsize=(8, 8))\n",
    "\n",
    "wedges, texts, autotexts = ax.pie(s__time_using_after_count,labels=s__time_using_after_count.index,autopct='%1.1f%%',\n",
    "                                  textprops=dict(color=\"w\"))\n",
    "\n",
    "ax.legend(wedges, s__time_using_after_count.index,title=\"time using\",loc=\"center left\",bbox_to_anchor=(1, 0, 0.5, 1))\n",
    "\n",
    "ax.set_title(\"The length of time when home \" + homeid + \" uses \" + appliance_name + \" each time\")\n",
    "\n",
    "plt.show()"
   ]
  },
  {
   "cell_type": "markdown",
   "metadata": {},
   "source": [
    "From the above graph, we can know that in 97.6% of cases, this family will use microwave in 1 minute. So we can conclude that this family usually use microwave within 1 mintue. However, there are sometimes that this family use microwave for more than 5 mintues, which is relatively rare in the length of time the microwave is used in common life. It can be assumed that this family forgot to turn off the microwave or used microwave to make a hard cooked food."
   ]
  },
  {
   "cell_type": "markdown",
   "metadata": {},
   "source": [
    "#### What is the routine of one family to use all the appliances in the home?\n",
    "In this part, we not only explore one appliance in one family but explore all the appliances in one family. We expect to darw a heatmap to find the routine of one family using appliances in one day."
   ]
  },
  {
   "cell_type": "markdown",
   "metadata": {},
   "source": [
    "We can use a dataframe which contains all the counts of various appliances if_used in one family. It will look like a wider df1 in the last part."
   ]
  },
  {
   "cell_type": "code",
   "execution_count": 128,
   "metadata": {},
   "outputs": [],
   "source": [
    "data_h1868 = smile.get(homeid=1868)"
   ]
  },
  {
   "cell_type": "code",
   "execution_count": 105,
   "metadata": {},
   "outputs": [
    {
     "data": {
      "text/plain": [
       "[{'homeid': '4206',\n",
       "  'roomid': '4206',\n",
       "  'room_type': 'room',\n",
       "  'category': 'electric-appliance',\n",
       "  'subtype': 'microwave',\n",
       "  'sensorid': '80508',\n",
       "  'readings': time\n",
       "  2020-01-08 15:16:57.163    0.4\n",
       "  2020-01-08 15:24:16.153    0.4\n",
       "  2020-01-08 15:25:39.163    0.3\n",
       "  2020-01-08 15:26:56.173    0.4\n",
       "  2020-01-08 15:35:34.150    0.3\n",
       "                            ... \n",
       "  2020-10-17 21:07:32.390    0.4\n",
       "  2020-10-17 21:35:12.357    0.4\n",
       "  2020-10-17 22:35:12.327    0.4\n",
       "  2020-10-17 22:55:39.263    0.3\n",
       "  2020-10-17 22:57:38.270    0.4\n",
       "  Name: sensor_80508, Length: 69718, dtype: float64},\n",
       " {'homeid': '4206',\n",
       "  'roomid': '4206',\n",
       "  'room_type': 'room',\n",
       "  'category': 'electric-appliance',\n",
       "  'subtype': 'kettle',\n",
       "  'sensorid': '20508',\n",
       "  'readings': time\n",
       "  2020-01-06 16:49:35.053    0.0\n",
       "  2020-01-06 17:49:35.010    0.2\n",
       "  2020-01-06 18:49:35.020    0.0\n",
       "  2020-01-06 19:49:34.807    0.2\n",
       "  2020-01-06 20:49:34.767    0.0\n",
       "                            ... \n",
       "  2020-10-17 18:35:09.650    0.1\n",
       "  2020-10-17 19:35:09.653    0.0\n",
       "  2020-10-17 20:35:09.497    0.1\n",
       "  2020-10-17 21:35:09.457    0.2\n",
       "  2020-10-17 22:35:09.453    0.1\n",
       "  Name: sensor_20508, Length: 7727, dtype: float64},\n",
       " {'homeid': '4206',\n",
       "  'roomid': '4206',\n",
       "  'room_type': 'room',\n",
       "  'category': 'electric-appliance',\n",
       "  'subtype': 'chair',\n",
       "  'sensorid': '90508',\n",
       "  'readings': time\n",
       "  2020-01-08 15:22:03.580    0.0\n",
       "  2020-01-08 16:22:03.513    0.0\n",
       "  2020-01-08 17:22:03.503    0.0\n",
       "  2020-01-08 18:22:03.393    0.0\n",
       "  2020-01-08 19:22:03.417    0.0\n",
       "                            ... \n",
       "  2020-08-25 02:52:17.387    0.0\n",
       "  2020-08-25 03:52:17.320    0.0\n",
       "  2020-08-25 04:52:17.273    0.0\n",
       "  2020-08-25 05:52:17.537    0.0\n",
       "  2020-08-25 06:52:17.800    0.0\n",
       "  Name: sensor_90508, Length: 31180, dtype: float64},\n",
       " {'homeid': '4206',\n",
       "  'roomid': '4206',\n",
       "  'room_type': 'room',\n",
       "  'category': 'electric-appliance',\n",
       "  'subtype': 'scooter-charger',\n",
       "  'sensorid': '40508',\n",
       "  'readings': time\n",
       "  2020-01-08 14:58:44.590    0.0\n",
       "  2020-01-08 14:58:54.593    0.0\n",
       "  2020-01-08 14:59:04.577    0.0\n",
       "  2020-01-08 14:59:14.570    0.0\n",
       "  2020-01-08 14:59:24.590    0.0\n",
       "                            ... \n",
       "  2020-10-17 22:59:18.213    0.0\n",
       "  2020-10-17 22:59:28.213    0.0\n",
       "  2020-10-17 22:59:38.177    0.0\n",
       "  2020-10-17 22:59:48.183    0.0\n",
       "  2020-10-17 22:59:58.190    0.0\n",
       "  Name: sensor_40508, Length: 1982315, dtype: float64}]"
      ]
     },
     "execution_count": 105,
     "metadata": {},
     "output_type": "execute_result"
    }
   ],
   "source": [
    "data_h1868"
   ]
  },
  {
   "cell_type": "markdown",
   "metadata": {},
   "source": [
    "Have a qucik look at data_h1868（and also the describe, but it not easy to show here so I do not show it), we can find that it's same as before that some powers，which should be 0, are recorded as a small non-zero number. But this time we have lots of data, so we choose to use 50th percentiles to decide if one appliance is in used."
   ]
  },
  {
   "cell_type": "code",
   "execution_count": 131,
   "metadata": {
    "scrolled": false
   },
   "outputs": [
    {
     "data": {
      "text/html": [
       "<div>\n",
       "<style scoped>\n",
       "    .dataframe tbody tr th:only-of-type {\n",
       "        vertical-align: middle;\n",
       "    }\n",
       "\n",
       "    .dataframe tbody tr th {\n",
       "        vertical-align: top;\n",
       "    }\n",
       "\n",
       "    .dataframe thead th {\n",
       "        text-align: right;\n",
       "    }\n",
       "</style>\n",
       "<table border=\"1\" class=\"dataframe\">\n",
       "  <thead>\n",
       "    <tr style=\"text-align: right;\">\n",
       "      <th></th>\n",
       "      <th>combi</th>\n",
       "      <th>tv</th>\n",
       "      <th>microwave</th>\n",
       "      <th>dishwasher</th>\n",
       "      <th>coffee</th>\n",
       "      <th>bed</th>\n",
       "    </tr>\n",
       "    <tr>\n",
       "      <th>time</th>\n",
       "      <th></th>\n",
       "      <th></th>\n",
       "      <th></th>\n",
       "      <th></th>\n",
       "      <th></th>\n",
       "      <th></th>\n",
       "    </tr>\n",
       "  </thead>\n",
       "  <tbody>\n",
       "    <tr>\n",
       "      <th>00:00</th>\n",
       "      <td>160.0</td>\n",
       "      <td>76.0</td>\n",
       "      <td>0.0</td>\n",
       "      <td>11.0</td>\n",
       "      <td>0.0</td>\n",
       "      <td>178.0</td>\n",
       "    </tr>\n",
       "    <tr>\n",
       "      <th>01:00</th>\n",
       "      <td>163.0</td>\n",
       "      <td>50.0</td>\n",
       "      <td>0.0</td>\n",
       "      <td>11.0</td>\n",
       "      <td>0.0</td>\n",
       "      <td>175.0</td>\n",
       "    </tr>\n",
       "    <tr>\n",
       "      <th>02:00</th>\n",
       "      <td>165.0</td>\n",
       "      <td>46.0</td>\n",
       "      <td>0.0</td>\n",
       "      <td>11.0</td>\n",
       "      <td>0.0</td>\n",
       "      <td>175.0</td>\n",
       "    </tr>\n",
       "    <tr>\n",
       "      <th>03:00</th>\n",
       "      <td>157.0</td>\n",
       "      <td>42.0</td>\n",
       "      <td>0.0</td>\n",
       "      <td>11.0</td>\n",
       "      <td>0.0</td>\n",
       "      <td>175.0</td>\n",
       "    </tr>\n",
       "    <tr>\n",
       "      <th>04:00</th>\n",
       "      <td>162.0</td>\n",
       "      <td>32.0</td>\n",
       "      <td>0.0</td>\n",
       "      <td>11.0</td>\n",
       "      <td>0.0</td>\n",
       "      <td>172.0</td>\n",
       "    </tr>\n",
       "    <tr>\n",
       "      <th>...</th>\n",
       "      <td>...</td>\n",
       "      <td>...</td>\n",
       "      <td>...</td>\n",
       "      <td>...</td>\n",
       "      <td>...</td>\n",
       "      <td>...</td>\n",
       "    </tr>\n",
       "    <tr>\n",
       "      <th>19:00</th>\n",
       "      <td>164.0</td>\n",
       "      <td>170.0</td>\n",
       "      <td>8.0</td>\n",
       "      <td>21.0</td>\n",
       "      <td>26.0</td>\n",
       "      <td>175.0</td>\n",
       "    </tr>\n",
       "    <tr>\n",
       "      <th>20:00</th>\n",
       "      <td>164.0</td>\n",
       "      <td>149.0</td>\n",
       "      <td>3.0</td>\n",
       "      <td>17.0</td>\n",
       "      <td>17.0</td>\n",
       "      <td>176.0</td>\n",
       "    </tr>\n",
       "    <tr>\n",
       "      <th>21:00</th>\n",
       "      <td>163.0</td>\n",
       "      <td>96.0</td>\n",
       "      <td>0.0</td>\n",
       "      <td>15.0</td>\n",
       "      <td>0.0</td>\n",
       "      <td>174.0</td>\n",
       "    </tr>\n",
       "    <tr>\n",
       "      <th>22:00</th>\n",
       "      <td>174.0</td>\n",
       "      <td>157.0</td>\n",
       "      <td>0.0</td>\n",
       "      <td>15.0</td>\n",
       "      <td>0.0</td>\n",
       "      <td>176.0</td>\n",
       "    </tr>\n",
       "    <tr>\n",
       "      <th>23:00</th>\n",
       "      <td>170.0</td>\n",
       "      <td>157.0</td>\n",
       "      <td>0.0</td>\n",
       "      <td>11.0</td>\n",
       "      <td>0.0</td>\n",
       "      <td>178.0</td>\n",
       "    </tr>\n",
       "  </tbody>\n",
       "</table>\n",
       "<p>24 rows × 6 columns</p>\n",
       "</div>"
      ],
      "text/plain": [
       "       combi     tv  microwave  dishwasher  coffee    bed\n",
       "time                                                     \n",
       "00:00  160.0   76.0        0.0        11.0     0.0  178.0\n",
       "01:00  163.0   50.0        0.0        11.0     0.0  175.0\n",
       "02:00  165.0   46.0        0.0        11.0     0.0  175.0\n",
       "03:00  157.0   42.0        0.0        11.0     0.0  175.0\n",
       "04:00  162.0   32.0        0.0        11.0     0.0  172.0\n",
       "...      ...    ...        ...         ...     ...    ...\n",
       "19:00  164.0  170.0        8.0        21.0    26.0  175.0\n",
       "20:00  164.0  149.0        3.0        17.0    17.0  176.0\n",
       "21:00  163.0   96.0        0.0        15.0     0.0  174.0\n",
       "22:00  174.0  157.0        0.0        15.0     0.0  176.0\n",
       "23:00  170.0  157.0        0.0        11.0     0.0  178.0\n",
       "\n",
       "[24 rows x 6 columns]"
      ]
     },
     "execution_count": 131,
     "metadata": {},
     "output_type": "execute_result"
    }
   ],
   "source": [
    "times = []\n",
    "for hour in range(24):\n",
    "    for mins in [0]:\n",
    "        time_datetime = datetime.time(hour)\n",
    "        time_str = time_datetime.strftime(\"%H:%M\")\n",
    "        times.append(time_str)\n",
    "count_dic_p3 = {'time':times}\n",
    "df_p3 = pd.DataFrame(data=count_dic_p3)\n",
    "homeid = data_h1868[0]['homeid']\n",
    "\n",
    "for one_appliance_data in data_h1868:\n",
    "    appliance_name = one_appliance_data['subtype']\n",
    "    appliance_s = one_appliance_data['readings']\n",
    "    appliance_s = appliance_s.resample('60min').mean().fillna(0)\n",
    "    not_in_used_loc = appliance_s.values <= appliance_s.quantile(0.5)\n",
    "    in_used_loc = appliance_s.values > appliance_s.quantile(0.5)\n",
    "    appliance_s_new = appliance_s.replace(appliance_s[not_in_used_loc].values,0)\n",
    "    appliance_s_new = appliance_s_new.replace(appliance_s_new[in_used_loc].values,1)\n",
    "    df_p3.insert(0,appliance_name,0)\n",
    "    for time_str in df_p3['time']:\n",
    "        timestamp = time.strptime(time_str, \"%H:%M\")\n",
    "        loc_time = (appliance_s_new.index.hour == timestamp.tm_hour) & (appliance_s_new.index.minute == timestamp.tm_min)\n",
    "        df_p3.loc[df_p3['time'] == time_str,appliance_name] = appliance_s_new[loc_time].sum()\n",
    "df_p3 = df_p3.set_index('time') # to make df_p3 become a rectangular dataset\n",
    "df_p3\n",
    "    "
   ]
  },
  {
   "cell_type": "markdown",
   "metadata": {},
   "source": [
    "Next, we draw the heatmap to see in each time period, how many times one appliance is in used."
   ]
  },
  {
   "cell_type": "code",
   "execution_count": 132,
   "metadata": {
    "scrolled": false
   },
   "outputs": [
    {
     "data": {
      "image/png": "[encoded data removed]",
      "text/plain": [
       "<Figure size 720x576 with 2 Axes>"
      ]
     },
     "metadata": {},
     "output_type": "display_data"
    }
   ],
   "source": [
    "sns.set()\n",
    "f, ax = plt.subplots(figsize=(10, 8))\n",
    "sns.heatmap(df_p3, ax=ax,annot=True,fmt=\".0f\")\n",
    "label_y = ax.get_yticklabels()\n",
    "label_x = ax.get_xticklabels()\n",
    "plt.title(\"The heatmap that\" +\" home \"+ homeid + \" uses appliances\")\n",
    "plt.show()"
   ]
  },
  {
   "cell_type": "markdown",
   "metadata": {},
   "source": [
    "Through the heatmap, we can clearly see that how this family uses appliances. Combi will be mainly in used between !9:00-5:00, tv will be mainly in used between 10:00 - 19:00, microwave will be mainly in used between 11:00 - 13:00, dishwasher will be mainly in used around 12:00(but really seldom be in used), coffee will be mainly in used between 6:00-7:00, 12:00-13:00, and 17:00-18:00, and bed will be mainly in used between 19:00 - 6:00.\n",
    "\n",
    "Thus, we may assume that the routine of elder in this family in one day will be like:\n",
    "\n",
    "06:00 get up and make a cup of coffee\n",
    "\n",
    "10:00 watch TV\n",
    "\n",
    "11:00 have lunch and use microwave to cook sometimes, and still watch TV at the same time\n",
    "\n",
    "12:00 make a cup of coffee and still watch TV at the same time\n",
    "\n",
    "13:00 finish lunch and still watch TV or go to the bed without turning off the TV\n",
    "\n",
    "17:00 make a cup of coffee and still watch TV at the same time\n",
    "\n",
    "18:00 seldom use microwave to cook and still watch TV at the same time\n",
    "\n",
    "19:00 begin to use combi(I don't know what it is in fact) and go to bed\n",
    "\n",
    "00:00 prepare to turn off the TV most of time and go to sleep\n",
    "\n",
    "For the routine above, we can find that this person really like watching TV and has a habit of dring coffe three times a day. The time of combi and bed is highly similar, so it may be concluded that bed and combi are in one room or the person just like to do the two thing together. And we may also confirm that the person is an elder by the bed time(just elders like to go to bed so early and can stay on the bed all the day in most of cases)."
   ]
  },
  {
   "cell_type": "markdown",
   "metadata": {},
   "source": [
    "### For Assignment3 part 2: 3 home timeline patterns"
   ]
  },
  {
   "cell_type": "code",
   "execution_count": 155,
   "metadata": {
    "scrolled": false
   },
   "outputs": [
    {
     "data": {
      "image/png": "[encoded data removed]",
      "text/plain": [
       "<Figure size 720x576 with 2 Axes>"
      ]
     },
     "metadata": {},
     "output_type": "display_data"
    }
   ],
   "source": [
    "data_h1868 = smile.get(homeid=1868)\n",
    "times = []\n",
    "for hour in range(24):\n",
    "    for mins in [0]:\n",
    "        time_datetime = datetime.time(hour)\n",
    "        time_str = time_datetime.strftime(\"%H:%M\")\n",
    "        times.append(time_str)\n",
    "count_dic_p3 = {'time':times}\n",
    "df_p3 = pd.DataFrame(data=count_dic_p3)\n",
    "homeid = data_h1868[0]['homeid']\n",
    "\n",
    "for one_appliance_data in data_h1868:\n",
    "    appliance_name = one_appliance_data['subtype']\n",
    "    appliance_s = one_appliance_data['readings']\n",
    "    appliance_s = appliance_s.resample('60min').mean().fillna(0)\n",
    "    not_in_used_loc = appliance_s.values <= 5 #appliance_s.quantile(0.3)\n",
    "    in_used_loc = appliance_s.values > 5 #appliance_s.quantile(0.3)\n",
    "    appliance_s_new = appliance_s.replace(appliance_s[not_in_used_loc].values,0)\n",
    "    appliance_s_new = appliance_s_new.replace(appliance_s_new[in_used_loc].values,1)\n",
    "    df_p3.insert(0,appliance_name,0)\n",
    "    for time_str in df_p3['time']:\n",
    "        timestamp = time.strptime(time_str, \"%H:%M\")\n",
    "        loc_time = (appliance_s_new.index.hour == timestamp.tm_hour) & (appliance_s_new.index.minute == timestamp.tm_min)\n",
    "        df_p3.loc[df_p3['time'] == time_str,appliance_name] = appliance_s_new[loc_time].sum()\n",
    "df_p3 = df_p3.set_index('time') # to make df_p3 become a rectangular dataset\n",
    "df_p3\n",
    "df_p3 = df_p3.drop(columns=\"combi\")\n",
    "df_p3 = df_p3.drop(columns=\"dishwasher\")\n",
    "\n",
    "sns.set()\n",
    "f, ax = plt.subplots(figsize=(10, 8))\n",
    "sns.heatmap(df_p3, ax=ax,annot=True,fmt=\".0f\")\n",
    "label_y = ax.get_yticklabels()\n",
    "label_x = ax.get_xticklabels()\n",
    "plt.title(\"The heatmap that\" +\" home \"+ homeid + \" uses appliances\")\n",
    "plt.show()\n",
    "df_p3 = df_p3.astype(int)\n",
    "df_p3.to_csv(\"1868pattern.csv\",sep=',')"
   ]
  },
  {
   "cell_type": "markdown",
   "metadata": {},
   "source": [
    "##### Timeline:\n",
    "\n",
    "07:00 - 19:00 TV\n",
    "\n",
    "11:00 - 13:00 microwave\n",
    "\n",
    "06:00 - 07:00, 12:00 - 13:00, 17:00 - 18:00 coffee\n",
    "\n",
    "19:00 - 06:00 sleepling\n",
    "\n",
    "##### Analysis:\n",
    "\n",
    "\n",
    "For the routine above, we can find that this person really like watching TV and has a habit of dring coffe three times a day. At noon, this person may like use microwave to cook the dinner. We may also confirm that the person is an elder by the bed time(just elders like to go to bed so early).\n"
   ]
  },
  {
   "cell_type": "code",
   "execution_count": 154,
   "metadata": {},
   "outputs": [
    {
     "data": {
      "image/png": "[encoded data removed]",
      "text/plain": [
       "<Figure size 720x576 with 2 Axes>"
      ]
     },
     "metadata": {},
     "output_type": "display_data"
    }
   ],
   "source": [
    "data_h1868 = smile.get(homeid=5713)\n",
    "times = []\n",
    "for hour in range(24):\n",
    "    for mins in [0]:\n",
    "        time_datetime = datetime.time(hour)\n",
    "        time_str = time_datetime.strftime(\"%H:%M\")\n",
    "        times.append(time_str)\n",
    "count_dic_p3 = {'time':times}\n",
    "df_p3 = pd.DataFrame(data=count_dic_p3)\n",
    "homeid = data_h1868[0]['homeid']\n",
    "\n",
    "for one_appliance_data in data_h1868:\n",
    "    appliance_name = one_appliance_data['subtype']\n",
    "    appliance_s = one_appliance_data['readings']\n",
    "    appliance_s = appliance_s.resample('60min').mean().fillna(0)\n",
    "    not_in_used_loc = appliance_s.values <= 5 #appliance_s.quantile(0.3)\n",
    "    in_used_loc = appliance_s.values > 5 #appliance_s.quantile(0.3)\n",
    "    appliance_s_new = appliance_s.replace(appliance_s[not_in_used_loc].values,0)\n",
    "    appliance_s_new = appliance_s_new.replace(appliance_s_new[in_used_loc].values,1)\n",
    "    df_p3.insert(0,appliance_name,0)\n",
    "    for time_str in df_p3['time']:\n",
    "        timestamp = time.strptime(time_str, \"%H:%M\")\n",
    "        loc_time = (appliance_s_new.index.hour == timestamp.tm_hour) & (appliance_s_new.index.minute == timestamp.tm_min)\n",
    "        df_p3.loc[df_p3['time'] == time_str,appliance_name] = appliance_s_new[loc_time].sum()\n",
    "df_p3 = df_p3.set_index('time') # to make df_p3 become a rectangular dataset\n",
    "df_p3\n",
    "sns.set()\n",
    "f, ax = plt.subplots(figsize=(10, 8))\n",
    "sns.heatmap(df_p3, ax=ax,annot=True,fmt=\".0f\")\n",
    "label_y = ax.get_yticklabels()\n",
    "label_x = ax.get_xticklabels()\n",
    "plt.title(\"The heatmap that\" +\" home \"+ homeid + \" uses appliances\")\n",
    "plt.show()\n",
    "df_p3 = df_p3.astype(int);\n",
    "df_p3.to_csv(\"5713pattern.csv\",sep=',')"
   ]
  },
  {
   "cell_type": "markdown",
   "metadata": {},
   "source": [
    "##### Timeline:\n",
    "\n",
    "10:00 - 20:00 PC\n",
    "\n",
    "14:00 - 15:00 washingmachine\n",
    "\n",
    "06:00 - 11:00, 13:00 - 14:00 wheelchair\n",
    "\n",
    "23:00 - 05:00 sleepling\n",
    "\n",
    "##### Analysis:\n",
    "\n",
    "\n",
    "For the routine above, we can find that this person really like using PC. He usually sleep from 23:00 - 05:00(the sleep time is less than the other elders in the nursing home. He may sit on the wheelchair after getting up at 05:00, then have a dinner at 12:00, and continue to sit on the wheelchair for the afernoon. If he need to use a washingmachine, he will choose to use it around 14:00.\n"
   ]
  },
  {
   "cell_type": "code",
   "execution_count": 159,
   "metadata": {},
   "outputs": [
    {
     "data": {
      "image/png": "[encoded data removed]",
      "text/plain": [
       "<Figure size 720x576 with 2 Axes>"
      ]
     },
     "metadata": {},
     "output_type": "display_data"
    }
   ],
   "source": [
    "data_h1868 = ideal.get(homeid=169)\n",
    "times = []\n",
    "for hour in range(24):\n",
    "    for mins in [0]:\n",
    "        time_datetime = datetime.time(hour)\n",
    "        time_str = time_datetime.strftime(\"%H:%M\")\n",
    "        times.append(time_str)\n",
    "count_dic_p3 = {'time':times}\n",
    "df_p3 = pd.DataFrame(data=count_dic_p3)\n",
    "homeid = data_h1868[0]['homeid']\n",
    "\n",
    "for one_appliance_data in data_h1868:\n",
    "    appliance_name = one_appliance_data['subtype']\n",
    "    appliance_s = one_appliance_data['readings']\n",
    "    appliance_s = appliance_s.resample('60min').mean().fillna(0)\n",
    "    not_in_used_loc = appliance_s.values <= 5 #appliance_s.quantile(0.7)\n",
    "    in_used_loc = appliance_s.values > 5 #appliance_s.quantile(0.7)\n",
    "    appliance_s_new = appliance_s.replace(appliance_s[not_in_used_loc].values,0)\n",
    "    appliance_s_new = appliance_s_new.replace(appliance_s_new[in_used_loc].values,1)\n",
    "    df_p3.insert(0,appliance_name,0)\n",
    "    for time_str in df_p3['time']:\n",
    "        timestamp = time.strptime(time_str, \"%H:%M\")\n",
    "        loc_time = (appliance_s_new.index.hour == timestamp.tm_hour) & (appliance_s_new.index.minute == timestamp.tm_min)\n",
    "        df_p3.loc[df_p3['time'] == time_str,appliance_name] = appliance_s_new[loc_time].sum()\n",
    "df_p3 = df_p3.set_index('time') # to make df_p3 become a rectangular dataset\n",
    "df_p3 = df_p3.drop(columns=\"fridgefreezer\")\n",
    "df_p3 = df_p3.drop(columns=\"other\")\n",
    "df_p3 = df_p3.drop(columns=\"dishwasher\")\n",
    "df_p3 = df_p3.drop(columns=\"grill\")\n",
    "sns.set()\n",
    "f, ax = plt.subplots(figsize=(10, 8))\n",
    "sns.heatmap(df_p3, ax=ax,annot=True,fmt=\".0f\")\n",
    "label_y = ax.get_yticklabels()\n",
    "label_x = ax.get_xticklabels()\n",
    "plt.title(\"The heatmap that\" +\" home \"+ homeid + \" uses appliances\")\n",
    "plt.show()\n",
    "df_p3 = df_p3.astype(int);\n",
    "df_p3.to_csv(\"169pattern.csv\",sep=',')"
   ]
  },
  {
   "cell_type": "markdown",
   "metadata": {},
   "source": [
    "##### Timeline:\n",
    "\n",
    "10:00 - 14:00, 17:00 - 20:00 microwave\n",
    "\n",
    "09:00 - 11:00, 18:00 toaster\n",
    "\n",
    "10:00 - 11:00, 16:00 - 19:00 electricheater\n",
    "\n",
    "15:00 - 19:00 vacuumcleaner\n",
    "\n",
    "17:00 - 21:00 washing machine\n",
    "\n",
    "\n",
    "##### Analysis:\n",
    "\n",
    "\n",
    "For the routine above, we can find that this person uses microwave and washing machines relatively frequently, both of which are used around 18:00 or 19:00 in the evening. He may use toaster sometimes to make a breakfast aroud 10:00. He may use electricheater sometimes to make a hot water around 10:00 or around late afternoon or early evening. If he need to use a vacuumcleaner, he will choose to use it in the afternoon or evening."
   ]
  },
  {
   "cell_type": "markdown",
   "metadata": {},
   "source": [
    "### Relationships Between Variables\n",
    "\n",
    "#### What is the relationship between ages of elders and average powers when they use microwave?\n",
    "\n",
    "The data in extenal file provides the age of elders. It's interseting to have a look at the relationship between ages of elders and average powers when they use appliance. Does it possible that older people like to use more power when using microwave?"
   ]
  },
  {
   "cell_type": "code",
   "execution_count": 35,
   "metadata": {},
   "outputs": [
    {
     "data": {
      "text/html": [
       "<div>\n",
       "<style scoped>\n",
       "    .dataframe tbody tr th:only-of-type {\n",
       "        vertical-align: middle;\n",
       "    }\n",
       "\n",
       "    .dataframe tbody tr th {\n",
       "        vertical-align: top;\n",
       "    }\n",
       "\n",
       "    .dataframe thead th {\n",
       "        text-align: right;\n",
       "    }\n",
       "</style>\n",
       "<table border=\"1\" class=\"dataframe\">\n",
       "  <thead>\n",
       "    <tr style=\"text-align: right;\">\n",
       "      <th></th>\n",
       "      <th>ID</th>\n",
       "      <th>Gender</th>\n",
       "      <th>DateOfBirth</th>\n",
       "      <th>Age</th>\n",
       "      <th>StaffPlanConditions</th>\n",
       "      <th>CareSysCondition</th>\n",
       "      <th>Location</th>\n",
       "    </tr>\n",
       "  </thead>\n",
       "  <tbody>\n",
       "    <tr>\n",
       "      <th>0</th>\n",
       "      <td>2059.0</td>\n",
       "      <td>M</td>\n",
       "      <td>1954/9/21</td>\n",
       "      <td>66</td>\n",
       "      <td>None</td>\n",
       "      <td>None</td>\n",
       "      <td>Aberdeen</td>\n",
       "    </tr>\n",
       "    <tr>\n",
       "      <th>1</th>\n",
       "      <td>4206.0</td>\n",
       "      <td>M</td>\n",
       "      <td>1954/12/22</td>\n",
       "      <td>54</td>\n",
       "      <td>None</td>\n",
       "      <td>Mobility Issues</td>\n",
       "      <td>Livingston</td>\n",
       "    </tr>\n",
       "    <tr>\n",
       "      <th>2</th>\n",
       "      <td>1868.0</td>\n",
       "      <td>F</td>\n",
       "      <td>1959/6/29</td>\n",
       "      <td>61</td>\n",
       "      <td>None</td>\n",
       "      <td>Cerebral Palsy</td>\n",
       "      <td>Aberdeen</td>\n",
       "    </tr>\n",
       "    <tr>\n",
       "      <th>3</th>\n",
       "      <td>2688.0</td>\n",
       "      <td>M</td>\n",
       "      <td>1967/8/19</td>\n",
       "      <td>53</td>\n",
       "      <td>None</td>\n",
       "      <td>Mental Health Issue</td>\n",
       "      <td>Edinburgh</td>\n",
       "    </tr>\n",
       "    <tr>\n",
       "      <th>4</th>\n",
       "      <td>2583.0</td>\n",
       "      <td>M</td>\n",
       "      <td>Nil</td>\n",
       "      <td>70+</td>\n",
       "      <td>None</td>\n",
       "      <td>COPD</td>\n",
       "      <td>Edinburgh</td>\n",
       "    </tr>\n",
       "    <tr>\n",
       "      <th>5</th>\n",
       "      <td>1874.0</td>\n",
       "      <td>M</td>\n",
       "      <td>1952/10/1</td>\n",
       "      <td>68</td>\n",
       "      <td>None</td>\n",
       "      <td>Brain Injury</td>\n",
       "      <td>Aberdeen</td>\n",
       "    </tr>\n",
       "    <tr>\n",
       "      <th>6</th>\n",
       "      <td>5713.0</td>\n",
       "      <td>M</td>\n",
       "      <td>Nil</td>\n",
       "      <td>Nil</td>\n",
       "      <td>None</td>\n",
       "      <td>?</td>\n",
       "      <td>Edinburgh</td>\n",
       "    </tr>\n",
       "  </tbody>\n",
       "</table>\n",
       "</div>"
      ],
      "text/plain": [
       "       ID Gender DateOfBirth  Age StaffPlanConditions     CareSysCondition  \\\n",
       "0  2059.0      M   1954/9/21   66                None                 None   \n",
       "1  4206.0      M  1954/12/22   54                None      Mobility Issues   \n",
       "2  1868.0      F   1959/6/29   61                None       Cerebral Palsy   \n",
       "3  2688.0      M   1967/8/19   53                None  Mental Health Issue   \n",
       "4  2583.0      M         Nil  70+                None                 COPD   \n",
       "5  1874.0      M   1952/10/1   68                None         Brain Injury   \n",
       "6  5713.0      M         Nil  Nil                None                    ?   \n",
       "\n",
       "     Location  \n",
       "0    Aberdeen  \n",
       "1  Livingston  \n",
       "2    Aberdeen  \n",
       "3   Edinburgh  \n",
       "4   Edinburgh  \n",
       "5    Aberdeen  \n",
       "6   Edinburgh  "
      ]
     },
     "execution_count": 35,
     "metadata": {},
     "output_type": "execute_result"
    }
   ],
   "source": [
    "#get data\n",
    "data_microwaves = smile.get(subtype = 'microwave')\n",
    "extra_data = pd.read_csv('./IAM_Data/Energy data participants.csv')\n",
    "extra_data = extra_data.dropna() #drop some NaN values\n",
    "extra_data"
   ]
  },
  {
   "cell_type": "markdown",
   "metadata": {},
   "source": [
    "The age for ID 5713 is not a number, so we need to drop this row.\n",
    "\n",
    "The age for ID 2583 is 70+, which is not a specific number and may make some troubles when we do variable analysis. We replace it to 70 here."
   ]
  },
  {
   "cell_type": "code",
   "execution_count": 36,
   "metadata": {},
   "outputs": [
    {
     "data": {
      "text/html": [
       "<div>\n",
       "<style scoped>\n",
       "    .dataframe tbody tr th:only-of-type {\n",
       "        vertical-align: middle;\n",
       "    }\n",
       "\n",
       "    .dataframe tbody tr th {\n",
       "        vertical-align: top;\n",
       "    }\n",
       "\n",
       "    .dataframe thead th {\n",
       "        text-align: right;\n",
       "    }\n",
       "</style>\n",
       "<table border=\"1\" class=\"dataframe\">\n",
       "  <thead>\n",
       "    <tr style=\"text-align: right;\">\n",
       "      <th></th>\n",
       "      <th>ID</th>\n",
       "      <th>Gender</th>\n",
       "      <th>DateOfBirth</th>\n",
       "      <th>Age</th>\n",
       "      <th>StaffPlanConditions</th>\n",
       "      <th>CareSysCondition</th>\n",
       "      <th>Location</th>\n",
       "    </tr>\n",
       "  </thead>\n",
       "  <tbody>\n",
       "    <tr>\n",
       "      <th>0</th>\n",
       "      <td>2059.0</td>\n",
       "      <td>M</td>\n",
       "      <td>1954/9/21</td>\n",
       "      <td>66</td>\n",
       "      <td>None</td>\n",
       "      <td>None</td>\n",
       "      <td>Aberdeen</td>\n",
       "    </tr>\n",
       "    <tr>\n",
       "      <th>1</th>\n",
       "      <td>4206.0</td>\n",
       "      <td>M</td>\n",
       "      <td>1954/12/22</td>\n",
       "      <td>54</td>\n",
       "      <td>None</td>\n",
       "      <td>Mobility Issues</td>\n",
       "      <td>Livingston</td>\n",
       "    </tr>\n",
       "    <tr>\n",
       "      <th>2</th>\n",
       "      <td>1868.0</td>\n",
       "      <td>F</td>\n",
       "      <td>1959/6/29</td>\n",
       "      <td>61</td>\n",
       "      <td>None</td>\n",
       "      <td>Cerebral Palsy</td>\n",
       "      <td>Aberdeen</td>\n",
       "    </tr>\n",
       "    <tr>\n",
       "      <th>3</th>\n",
       "      <td>2688.0</td>\n",
       "      <td>M</td>\n",
       "      <td>1967/8/19</td>\n",
       "      <td>53</td>\n",
       "      <td>None</td>\n",
       "      <td>Mental Health Issue</td>\n",
       "      <td>Edinburgh</td>\n",
       "    </tr>\n",
       "    <tr>\n",
       "      <th>4</th>\n",
       "      <td>2583.0</td>\n",
       "      <td>M</td>\n",
       "      <td>Nil</td>\n",
       "      <td>70</td>\n",
       "      <td>None</td>\n",
       "      <td>COPD</td>\n",
       "      <td>Edinburgh</td>\n",
       "    </tr>\n",
       "    <tr>\n",
       "      <th>5</th>\n",
       "      <td>1874.0</td>\n",
       "      <td>M</td>\n",
       "      <td>1952/10/1</td>\n",
       "      <td>68</td>\n",
       "      <td>None</td>\n",
       "      <td>Brain Injury</td>\n",
       "      <td>Aberdeen</td>\n",
       "    </tr>\n",
       "  </tbody>\n",
       "</table>\n",
       "</div>"
      ],
      "text/plain": [
       "       ID Gender DateOfBirth Age StaffPlanConditions     CareSysCondition  \\\n",
       "0  2059.0      M   1954/9/21  66                None                 None   \n",
       "1  4206.0      M  1954/12/22  54                None      Mobility Issues   \n",
       "2  1868.0      F   1959/6/29  61                None       Cerebral Palsy   \n",
       "3  2688.0      M   1967/8/19  53                None  Mental Health Issue   \n",
       "4  2583.0      M         Nil  70                None                 COPD   \n",
       "5  1874.0      M   1952/10/1  68                None         Brain Injury   \n",
       "\n",
       "     Location  \n",
       "0    Aberdeen  \n",
       "1  Livingston  \n",
       "2    Aberdeen  \n",
       "3   Edinburgh  \n",
       "4   Edinburgh  \n",
       "5    Aberdeen  "
      ]
     },
     "execution_count": 36,
     "metadata": {},
     "output_type": "execute_result"
    }
   ],
   "source": [
    "extra_data = extra_data.drop(6)\n",
    "extra_data = extra_data.replace('70+','70')\n",
    "extra_data"
   ]
  },
  {
   "cell_type": "markdown",
   "metadata": {},
   "source": [
    "The tpye ID is float, which will make trouble in the following merge step, so we transfer it to str type(we need to firstly transfer it to int type to delete '.0')."
   ]
  },
  {
   "cell_type": "code",
   "execution_count": 37,
   "metadata": {},
   "outputs": [
    {
     "data": {
      "text/html": [
       "<div>\n",
       "<style scoped>\n",
       "    .dataframe tbody tr th:only-of-type {\n",
       "        vertical-align: middle;\n",
       "    }\n",
       "\n",
       "    .dataframe tbody tr th {\n",
       "        vertical-align: top;\n",
       "    }\n",
       "\n",
       "    .dataframe thead th {\n",
       "        text-align: right;\n",
       "    }\n",
       "</style>\n",
       "<table border=\"1\" class=\"dataframe\">\n",
       "  <thead>\n",
       "    <tr style=\"text-align: right;\">\n",
       "      <th></th>\n",
       "      <th>ID</th>\n",
       "      <th>Gender</th>\n",
       "      <th>DateOfBirth</th>\n",
       "      <th>Age</th>\n",
       "      <th>StaffPlanConditions</th>\n",
       "      <th>CareSysCondition</th>\n",
       "      <th>Location</th>\n",
       "    </tr>\n",
       "  </thead>\n",
       "  <tbody>\n",
       "    <tr>\n",
       "      <th>0</th>\n",
       "      <td>2059</td>\n",
       "      <td>M</td>\n",
       "      <td>1954/9/21</td>\n",
       "      <td>66</td>\n",
       "      <td>None</td>\n",
       "      <td>None</td>\n",
       "      <td>Aberdeen</td>\n",
       "    </tr>\n",
       "    <tr>\n",
       "      <th>1</th>\n",
       "      <td>4206</td>\n",
       "      <td>M</td>\n",
       "      <td>1954/12/22</td>\n",
       "      <td>54</td>\n",
       "      <td>None</td>\n",
       "      <td>Mobility Issues</td>\n",
       "      <td>Livingston</td>\n",
       "    </tr>\n",
       "    <tr>\n",
       "      <th>2</th>\n",
       "      <td>1868</td>\n",
       "      <td>F</td>\n",
       "      <td>1959/6/29</td>\n",
       "      <td>61</td>\n",
       "      <td>None</td>\n",
       "      <td>Cerebral Palsy</td>\n",
       "      <td>Aberdeen</td>\n",
       "    </tr>\n",
       "    <tr>\n",
       "      <th>3</th>\n",
       "      <td>2688</td>\n",
       "      <td>M</td>\n",
       "      <td>1967/8/19</td>\n",
       "      <td>53</td>\n",
       "      <td>None</td>\n",
       "      <td>Mental Health Issue</td>\n",
       "      <td>Edinburgh</td>\n",
       "    </tr>\n",
       "    <tr>\n",
       "      <th>4</th>\n",
       "      <td>2583</td>\n",
       "      <td>M</td>\n",
       "      <td>Nil</td>\n",
       "      <td>70</td>\n",
       "      <td>None</td>\n",
       "      <td>COPD</td>\n",
       "      <td>Edinburgh</td>\n",
       "    </tr>\n",
       "    <tr>\n",
       "      <th>5</th>\n",
       "      <td>1874</td>\n",
       "      <td>M</td>\n",
       "      <td>1952/10/1</td>\n",
       "      <td>68</td>\n",
       "      <td>None</td>\n",
       "      <td>Brain Injury</td>\n",
       "      <td>Aberdeen</td>\n",
       "    </tr>\n",
       "  </tbody>\n",
       "</table>\n",
       "</div>"
      ],
      "text/plain": [
       "     ID Gender DateOfBirth Age StaffPlanConditions     CareSysCondition  \\\n",
       "0  2059      M   1954/9/21  66                None                 None   \n",
       "1  4206      M  1954/12/22  54                None      Mobility Issues   \n",
       "2  1868      F   1959/6/29  61                None       Cerebral Palsy   \n",
       "3  2688      M   1967/8/19  53                None  Mental Health Issue   \n",
       "4  2583      M         Nil  70                None                 COPD   \n",
       "5  1874      M   1952/10/1  68                None         Brain Injury   \n",
       "\n",
       "     Location  \n",
       "0    Aberdeen  \n",
       "1  Livingston  \n",
       "2    Aberdeen  \n",
       "3   Edinburgh  \n",
       "4   Edinburgh  \n",
       "5    Aberdeen  "
      ]
     },
     "execution_count": 37,
     "metadata": {},
     "output_type": "execute_result"
    }
   ],
   "source": [
    "extra_data['ID'] = extra_data['ID'].astype(int)\n",
    "extra_data['ID'] = extra_data['ID'].astype(str)\n",
    "extra_data"
   ]
  },
  {
   "cell_type": "markdown",
   "metadata": {},
   "source": [
    "Next, we calulate the average power when eldes are using microwaves.\n",
    "\n",
    "We use a 10s sampling frequency because we need more accurate values here. Originally, the sensor collects data every seven seconds when the electrical appliance is working, so we use a similar number of 7 - 10 seconds to restore the electrical power to the greatest extent.\n",
    "\n",
    "The microwave power is normally more than 100w, so we use 10 here to decide if microwave is in used."
   ]
  },
  {
   "cell_type": "code",
   "execution_count": 38,
   "metadata": {
    "scrolled": true
   },
   "outputs": [
    {
     "data": {
      "text/html": [
       "<div>\n",
       "<style scoped>\n",
       "    .dataframe tbody tr th:only-of-type {\n",
       "        vertical-align: middle;\n",
       "    }\n",
       "\n",
       "    .dataframe tbody tr th {\n",
       "        vertical-align: top;\n",
       "    }\n",
       "\n",
       "    .dataframe thead th {\n",
       "        text-align: right;\n",
       "    }\n",
       "</style>\n",
       "<table border=\"1\" class=\"dataframe\">\n",
       "  <thead>\n",
       "    <tr style=\"text-align: right;\">\n",
       "      <th></th>\n",
       "      <th>ID</th>\n",
       "      <th>average_power</th>\n",
       "    </tr>\n",
       "  </thead>\n",
       "  <tbody>\n",
       "    <tr>\n",
       "      <th>0</th>\n",
       "      <td>4206</td>\n",
       "      <td>382.025034</td>\n",
       "    </tr>\n",
       "    <tr>\n",
       "      <th>1</th>\n",
       "      <td>2059</td>\n",
       "      <td>523.903733</td>\n",
       "    </tr>\n",
       "    <tr>\n",
       "      <th>2</th>\n",
       "      <td>1874</td>\n",
       "      <td>900.587500</td>\n",
       "    </tr>\n",
       "    <tr>\n",
       "      <th>3</th>\n",
       "      <td>1868</td>\n",
       "      <td>689.074664</td>\n",
       "    </tr>\n",
       "    <tr>\n",
       "      <th>4</th>\n",
       "      <td>2583</td>\n",
       "      <td>765.033482</td>\n",
       "    </tr>\n",
       "    <tr>\n",
       "      <th>5</th>\n",
       "      <td>2688</td>\n",
       "      <td>643.526680</td>\n",
       "    </tr>\n",
       "  </tbody>\n",
       "</table>\n",
       "</div>"
      ],
      "text/plain": [
       "     ID  average_power\n",
       "0  4206     382.025034\n",
       "1  2059     523.903733\n",
       "2  1874     900.587500\n",
       "3  1868     689.074664\n",
       "4  2583     765.033482\n",
       "5  2688     643.526680"
      ]
     },
     "execution_count": 38,
     "metadata": {},
     "output_type": "execute_result"
    }
   ],
   "source": [
    "average_powers = []\n",
    "homeids = []\n",
    "for data_microwave in data_microwaves:\n",
    "    homeid = data_microwave['homeid']\n",
    "    microwave_s = data_microwave['readings']\n",
    "    microwave_s = microwave_s.resample('10s').mean().fillna(0)\n",
    "    not_in_used_loc = microwave_s.values <= 10\n",
    "    in_used_loc = microwave_s.values > 10\n",
    "    count_in_used = (np.sum(in_used_loc == True))\n",
    "    sum_power = microwave_s[in_used_loc].sum()\n",
    "    average_power = sum_power/count_in_used\n",
    "    homeids.append(homeid)\n",
    "    average_powers.append(average_power)\n",
    "\n",
    "dic_average_powers = {'ID':homeids,'average_power':average_powers}\n",
    "df_average_power = pd.DataFrame(dic_average_powers)\n",
    "df_average_power"
   ]
  },
  {
   "cell_type": "markdown",
   "metadata": {},
   "source": [
    "Then, we merage the two dateframe together according to homeid.\n",
    "\n",
    "And we transfer the type of age to int beacuse we need number type when we are doing variable analysis."
   ]
  },
  {
   "cell_type": "code",
   "execution_count": 39,
   "metadata": {},
   "outputs": [
    {
     "data": {
      "text/html": [
       "<div>\n",
       "<style scoped>\n",
       "    .dataframe tbody tr th:only-of-type {\n",
       "        vertical-align: middle;\n",
       "    }\n",
       "\n",
       "    .dataframe tbody tr th {\n",
       "        vertical-align: top;\n",
       "    }\n",
       "\n",
       "    .dataframe thead th {\n",
       "        text-align: right;\n",
       "    }\n",
       "</style>\n",
       "<table border=\"1\" class=\"dataframe\">\n",
       "  <thead>\n",
       "    <tr style=\"text-align: right;\">\n",
       "      <th></th>\n",
       "      <th>ID</th>\n",
       "      <th>Gender</th>\n",
       "      <th>DateOfBirth</th>\n",
       "      <th>Age</th>\n",
       "      <th>StaffPlanConditions</th>\n",
       "      <th>CareSysCondition</th>\n",
       "      <th>Location</th>\n",
       "      <th>average_power</th>\n",
       "    </tr>\n",
       "  </thead>\n",
       "  <tbody>\n",
       "    <tr>\n",
       "      <th>0</th>\n",
       "      <td>2059</td>\n",
       "      <td>M</td>\n",
       "      <td>1954/9/21</td>\n",
       "      <td>66</td>\n",
       "      <td>None</td>\n",
       "      <td>None</td>\n",
       "      <td>Aberdeen</td>\n",
       "      <td>523.903733</td>\n",
       "    </tr>\n",
       "    <tr>\n",
       "      <th>1</th>\n",
       "      <td>4206</td>\n",
       "      <td>M</td>\n",
       "      <td>1954/12/22</td>\n",
       "      <td>54</td>\n",
       "      <td>None</td>\n",
       "      <td>Mobility Issues</td>\n",
       "      <td>Livingston</td>\n",
       "      <td>382.025034</td>\n",
       "    </tr>\n",
       "    <tr>\n",
       "      <th>2</th>\n",
       "      <td>1868</td>\n",
       "      <td>F</td>\n",
       "      <td>1959/6/29</td>\n",
       "      <td>61</td>\n",
       "      <td>None</td>\n",
       "      <td>Cerebral Palsy</td>\n",
       "      <td>Aberdeen</td>\n",
       "      <td>689.074664</td>\n",
       "    </tr>\n",
       "    <tr>\n",
       "      <th>3</th>\n",
       "      <td>2688</td>\n",
       "      <td>M</td>\n",
       "      <td>1967/8/19</td>\n",
       "      <td>53</td>\n",
       "      <td>None</td>\n",
       "      <td>Mental Health Issue</td>\n",
       "      <td>Edinburgh</td>\n",
       "      <td>643.526680</td>\n",
       "    </tr>\n",
       "    <tr>\n",
       "      <th>4</th>\n",
       "      <td>2583</td>\n",
       "      <td>M</td>\n",
       "      <td>Nil</td>\n",
       "      <td>70</td>\n",
       "      <td>None</td>\n",
       "      <td>COPD</td>\n",
       "      <td>Edinburgh</td>\n",
       "      <td>765.033482</td>\n",
       "    </tr>\n",
       "    <tr>\n",
       "      <th>5</th>\n",
       "      <td>1874</td>\n",
       "      <td>M</td>\n",
       "      <td>1952/10/1</td>\n",
       "      <td>68</td>\n",
       "      <td>None</td>\n",
       "      <td>Brain Injury</td>\n",
       "      <td>Aberdeen</td>\n",
       "      <td>900.587500</td>\n",
       "    </tr>\n",
       "  </tbody>\n",
       "</table>\n",
       "</div>"
      ],
      "text/plain": [
       "     ID Gender DateOfBirth  Age StaffPlanConditions     CareSysCondition  \\\n",
       "0  2059      M   1954/9/21   66                None                 None   \n",
       "1  4206      M  1954/12/22   54                None      Mobility Issues   \n",
       "2  1868      F   1959/6/29   61                None       Cerebral Palsy   \n",
       "3  2688      M   1967/8/19   53                None  Mental Health Issue   \n",
       "4  2583      M         Nil   70                None                 COPD   \n",
       "5  1874      M   1952/10/1   68                None         Brain Injury   \n",
       "\n",
       "     Location  average_power  \n",
       "0    Aberdeen     523.903733  \n",
       "1  Livingston     382.025034  \n",
       "2    Aberdeen     689.074664  \n",
       "3   Edinburgh     643.526680  \n",
       "4   Edinburgh     765.033482  \n",
       "5    Aberdeen     900.587500  "
      ]
     },
     "execution_count": 39,
     "metadata": {},
     "output_type": "execute_result"
    }
   ],
   "source": [
    "df_merge = pd.merge(extra_data,df_average_power,how='inner',on='ID')\n",
    "df_merge['Age'] = df_merge['Age'].astype(int)\n",
    "df_merge"
   ]
  },
  {
   "cell_type": "markdown",
   "metadata": {},
   "source": [
    "Next, we use lmplot or regplot to see the relationship between age and average_power."
   ]
  },
  {
   "cell_type": "code",
   "execution_count": 40,
   "metadata": {},
   "outputs": [
    {
     "data": {
      "image/png": "[encoded data removed]",
      "text/plain": [
       "<Figure size 360x360 with 1 Axes>"
      ]
     },
     "metadata": {},
     "output_type": "display_data"
    }
   ],
   "source": [
    "sns.lmplot( x=\"Age\", y=\"average_power\", data=df_merge)\n",
    "plt.show()"
   ]
  },
  {
   "cell_type": "code",
   "execution_count": 41,
   "metadata": {},
   "outputs": [
    {
     "data": {
      "image/png": "[encoded data removed]",
      "text/plain": [
       "<Figure size 432x288 with 1 Axes>"
      ]
     },
     "metadata": {},
     "output_type": "display_data"
    }
   ],
   "source": [
    "sns.regplot( x=\"Age\", y=\"average_power\", data=df_merge)\n",
    "plt.show()"
   ]
  },
  {
   "cell_type": "markdown",
   "metadata": {},
   "source": [
    "From the above two graphs, we can see that there is a certain linear relationship between age and average power. The older the age, the greater the average power when using the microwave. But this linear relationship is not very strict. In order to quantify the relationship between them, we use linear regression for analysis."
   ]
  },
  {
   "cell_type": "code",
   "execution_count": 42,
   "metadata": {},
   "outputs": [
    {
     "data": {
      "text/plain": [
       "LinregressResult(slope=15.581651654656111, intercept=-315.3705537561573, rvalue=0.6203304503539948, pvalue=0.1888589637147791, stderr=9.85065424352598)"
      ]
     },
     "execution_count": 42,
     "metadata": {},
     "output_type": "execute_result"
    }
   ],
   "source": [
    "stats.linregress(df_merge['Age'],df_merge['average_power'])"
   ]
  },
  {
   "cell_type": "markdown",
   "metadata": {},
   "source": [
    "The slope is 15.581651654656111, which means that the older the age, the greater the average power when using the microwave. The rvalue is 0.6203304503539948, which is not very close to 1. It means that the linear correlation between age and average power is not significant. The pvalue is 0.18885896, which relates to a possibility of the null hypothesis, which is that the slope is zero. If we set α=0.05, pvalue is more than α. So we can conclude that in this case, null hypothesis is not rejected."
   ]
  },
  {
   "cell_type": "markdown",
   "metadata": {},
   "source": [
    "Though the linear correlation between age and average power is not significant, we can still assume the slight correlation is because within the age increasing, elders prefer to more cooked food."
   ]
  },
  {
   "cell_type": "markdown",
   "metadata": {},
   "source": [
    "In fact, we just have 6 sets of valid data here, which is too small compared to the normal data set. So our conclsion may become more meaningful with the bigger scale of data sets."
   ]
  },
  {
   "cell_type": "markdown",
   "metadata": {},
   "source": [
    "## Reflect and Hypothesise:\n",
    "I think I have written my hypothesis below each graghs. So here I just say something about data reflection and how I could go about testing hypothesis."
   ]
  },
  {
   "cell_type": "markdown",
   "metadata": {},
   "source": [
    "### Data Reflection\n",
    "\n",
    "This data set is really difficult to handle with. We don't have too many columns of data but have many rows. The orignal data is not distributed evenly over time so we need to resample it. And we want to find patterns of elders using appliances so we need to convert the power data to some more meaningful data, such as if_used in this notebook. We create many new series and dataframe to store these new data, and draw kinds of graghs to find some patterns. During this proess, we faced many problems but we solved them one by one at last. And luckly, we find some patterns. We can use the data set to find when one family uses appliances every day, in which order and in what time. By this heatmap, we can assume a time schedule for this family and guess some habits of this family. On the other hand, we use the extenal file to explore if there is a relationship between ages of elders and average powers when they use microwave. Though the linear correlation is not significant, we still got some conclusions. And we discovered the importance of data volume.\n",
    "\n",
    "The power of data is inestimable, and I hope that what I have gained in this course can be used someday in the future."
   ]
  },
  {
   "cell_type": "markdown",
   "metadata": {},
   "source": [
    "### How I could go about testing hypothesis？\n",
    "\n",
    "The mainly hypothesis is this notebook is the pattern of one family using appliances. To test it, we can use the sensors to record longer time(but need to some patterns may be changed with time) and check our hypothesis. We may also do a user research, to do a interview or do a observation, with these families if it's possible. And what's more, we can use machine learing to train a model from these data sets, and make a prediction to their behaviour and test it by using methods above."
   ]
  }
 ],
 "metadata": {
  "kernelspec": {
   "display_name": "Python 3",
   "language": "python",
   "name": "python3"
  },
  "language_info": {
   "codemirror_mode": {
    "name": "ipython",
    "version": 3
   },
   "file_extension": ".py",
   "mimetype": "text/x-python",
   "name": "python",
   "nbconvert_exporter": "python",
   "pygments_lexer": "ipython3",
   "version": "3.8.5"
  }
 },
 "nbformat": 4,
 "nbformat_minor": 4
}
